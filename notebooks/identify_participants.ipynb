{
 "cells": [
  {
   "cell_type": "code",
   "execution_count": 11,
   "id": "0965ed05",
   "metadata": {},
   "outputs": [],
   "source": [
    "import os\n",
    "import sys\n",
    "import pandas as pd\n",
    "sys.path.append('..')\n",
    "from utils.data import load_subject_lut, load_participant_list"
   ]
  },
  {
   "cell_type": "code",
   "execution_count": 12,
   "id": "5592822d",
   "metadata": {},
   "outputs": [],
   "source": [
    "base_dir = '/Users/hugofluhr/phd_local/data/LearningHabits/dev_sample'\n",
    "modeling_dir = '/Users/hugofluhr/phd_local/data/LearningHabits/dev_sample/modeling_data'"
   ]
  },
  {
   "cell_type": "code",
   "execution_count": 13,
   "id": "ed6eceb4",
   "metadata": {},
   "outputs": [],
   "source": [
    "modeling_subjects = set([f.split('_')[0].upper() for f in os.listdir(modeling_dir) if f.endswith('.csv')])"
   ]
  },
  {
   "cell_type": "code",
   "execution_count": 14,
   "id": "fb767918",
   "metadata": {},
   "outputs": [
    {
     "data": {
      "text/plain": [
       "67"
      ]
     },
     "execution_count": 14,
     "metadata": {},
     "output_type": "execute_result"
    }
   ],
   "source": [
    "len(modeling_subjects)"
   ]
  },
  {
   "cell_type": "code",
   "execution_count": 15,
   "id": "2864d5c3",
   "metadata": {},
   "outputs": [],
   "source": [
    "lut = load_subject_lut(base_dir)"
   ]
  },
  {
   "cell_type": "code",
   "execution_count": 16,
   "id": "65752181",
   "metadata": {},
   "outputs": [
    {
     "data": {
      "text/plain": [
       "73"
      ]
     },
     "execution_count": 16,
     "metadata": {},
     "output_type": "execute_result"
    }
   ],
   "source": [
    "len(lut)"
   ]
  },
  {
   "cell_type": "code",
   "execution_count": 19,
   "id": "c3357d66",
   "metadata": {},
   "outputs": [],
   "source": [
    "all_subjects = lut.keys()\n",
    "all_subjects = set(s.upper() for s in all_subjects)"
   ]
  },
  {
   "cell_type": "code",
   "execution_count": 20,
   "id": "f5e7bcc2",
   "metadata": {},
   "outputs": [],
   "source": [
    "subject_not_modeled = all_subjects - modeling_subjects"
   ]
  },
  {
   "cell_type": "code",
   "execution_count": 21,
   "id": "30822cff",
   "metadata": {},
   "outputs": [],
   "source": [
    "subject_not_modeled = list(subject_not_modeled)"
   ]
  },
  {
   "cell_type": "code",
   "execution_count": 22,
   "id": "3d252733",
   "metadata": {},
   "outputs": [
    {
     "data": {
      "text/plain": [
       "['SUB-34',\n",
       " 'SUB-02',\n",
       " 'SUB-23',\n",
       " 'SUB-01',\n",
       " 'SUB-59',\n",
       " 'SUB-42',\n",
       " 'SUB-39',\n",
       " 'SUB-73',\n",
       " 'SUB-11',\n",
       " 'SUB-19',\n",
       " 'SUB-06',\n",
       " 'SUB-15',\n",
       " 'SUB-08',\n",
       " 'SUB-60',\n",
       " 'SUB-54',\n",
       " 'SUB-32',\n",
       " 'SUB-61',\n",
       " 'SUB-71',\n",
       " 'SUB-04',\n",
       " 'SUB-03',\n",
       " 'SUB-09',\n",
       " 'SUB-17',\n",
       " 'SUB-30',\n",
       " 'SUB-22',\n",
       " 'SUB-45',\n",
       " 'SUB-14',\n",
       " 'SUB-46',\n",
       " 'SUB-26',\n",
       " 'SUB-36',\n",
       " 'SUB-70',\n",
       " 'SUB-56',\n",
       " 'SUB-64',\n",
       " 'SUB-58',\n",
       " 'SUB-29',\n",
       " 'SUB-38',\n",
       " 'SUB-48',\n",
       " 'SUB-25',\n",
       " 'SUB-35',\n",
       " 'SUB-49',\n",
       " 'SUB-16',\n",
       " 'SUB-41',\n",
       " 'SUB-51',\n",
       " 'SUB-21',\n",
       " 'SUB-69',\n",
       " 'SUB-66',\n",
       " 'SUB-50',\n",
       " 'SUB-28',\n",
       " 'SUB-05',\n",
       " 'SUB-10',\n",
       " 'SUB-43',\n",
       " 'SUB-44',\n",
       " 'SUB-63',\n",
       " 'SUB-65',\n",
       " 'SUB-72',\n",
       " 'SUB-07',\n",
       " 'SUB-12',\n",
       " 'SUB-18',\n",
       " 'SUB-37',\n",
       " 'SUB-40',\n",
       " 'SUB-53',\n",
       " 'SUB-13',\n",
       " 'SUB-57',\n",
       " 'SUB-33',\n",
       " 'SUB-20',\n",
       " 'SUB-62',\n",
       " 'SUB-24',\n",
       " 'SUB-47',\n",
       " 'SUB-67',\n",
       " 'SUB-52',\n",
       " 'SUB-55',\n",
       " 'SUB-31',\n",
       " 'SUB-68',\n",
       " 'SUB-27']"
      ]
     },
     "execution_count": 22,
     "metadata": {},
     "output_type": "execute_result"
    }
   ],
   "source": [
    "subject_not_modeled"
   ]
  },
  {
   "cell_type": "code",
   "execution_count": 23,
   "id": "1ce9570c",
   "metadata": {},
   "outputs": [
    {
     "data": {
      "text/plain": [
       "[]"
      ]
     },
     "execution_count": 23,
     "metadata": {},
     "output_type": "execute_result"
    }
   ],
   "source": [
    "\n",
    "keys_for_not_modeled = [k for v in subject_not_modeled for k, val in lut.items() if val == v]\n",
    "keys_for_not_modeled"
   ]
  },
  {
   "cell_type": "code",
   "execution_count": 27,
   "id": "dbcb8dc7",
   "metadata": {},
   "outputs": [],
   "source": [
    "sne_participants = load_participant_list(base_dir)\n",
    "sne_participants = ['sub-' + s for s in sne_participants]"
   ]
  },
  {
   "cell_type": "code",
   "execution_count": 31,
   "id": "543017d3",
   "metadata": {},
   "outputs": [],
   "source": [
    "excluded_from_sne = [s for s in all_subjects if s.lower() not in sne_participants]\n",
    "excluded_from_sne.sort()"
   ]
  },
  {
   "cell_type": "code",
   "execution_count": 32,
   "id": "c3cc1501",
   "metadata": {},
   "outputs": [
    {
     "data": {
      "text/plain": [
       "['SUB-11',\n",
       " 'SUB-17',\n",
       " 'SUB-25',\n",
       " 'SUB-31',\n",
       " 'SUB-32',\n",
       " 'SUB-39',\n",
       " 'SUB-42',\n",
       " 'SUB-44',\n",
       " 'SUB-46',\n",
       " 'SUB-66',\n",
       " 'SUB-68']"
      ]
     },
     "execution_count": 32,
     "metadata": {},
     "output_type": "execute_result"
    }
   ],
   "source": [
    "excluded_from_sne"
   ]
  },
  {
   "cell_type": "code",
   "execution_count": null,
   "id": "cee12b22",
   "metadata": {},
   "outputs": [],
   "source": []
  }
 ],
 "metadata": {
  "kernelspec": {
   "display_name": "neuroim",
   "language": "python",
   "name": "python3"
  },
  "language_info": {
   "codemirror_mode": {
    "name": "ipython",
    "version": 3
   },
   "file_extension": ".py",
   "mimetype": "text/x-python",
   "name": "python",
   "nbconvert_exporter": "python",
   "pygments_lexer": "ipython3",
   "version": "3.10.17"
  }
 },
 "nbformat": 4,
 "nbformat_minor": 5
}
