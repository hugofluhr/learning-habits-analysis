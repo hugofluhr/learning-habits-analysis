{
 "cells": [
  {
   "cell_type": "code",
   "execution_count": 80,
   "metadata": {},
   "outputs": [],
   "source": [
    "import sys\n",
    "import pandas as pd\n",
    "import numpy as np\n",
    "import glob\n",
    "import os\n",
    "from matplotlib import pyplot as plt\n",
    "from nilearn import image\n",
    "from nilearn.glm import threshold_stats_img\n",
    "from nilearn.plotting import plot_stat_map\n",
    "from nilearn.reporting import get_clusters_table\n",
    "sys.path.append('..')\n",
    "from utils.data import load_participant_list, get_betamap_paths, Subject"
   ]
  },
  {
   "cell_type": "code",
   "execution_count": 60,
   "metadata": {},
   "outputs": [],
   "source": [
    "run = 'learning2'\n",
    "first_level_dir = '/home/ubuntu/data/learning-habits/bids_dataset/derivatives/nilearn/both_modulators_exclude_20250206'"
   ]
  },
  {
   "cell_type": "markdown",
   "metadata": {},
   "source": [
    "# Load First level data"
   ]
  },
  {
   "cell_type": "code",
   "execution_count": 61,
   "metadata": {},
   "outputs": [],
   "source": [
    "base_dir = '/home/ubuntu/data/learning-habits'\n",
    "sub_ids = load_participant_list(base_dir)"
   ]
  },
  {
   "cell_type": "code",
   "execution_count": 62,
   "metadata": {},
   "outputs": [],
   "source": [
    "contrast_modulator_RL_paths, matched_sub_ids = get_betamap_paths(sub_ids, first_level_dir, run, \"sub-{sub_id}_run-{run}_beta*_rl.nii.gz\")\n",
    "contrast_modulator_CK_paths, _ = get_betamap_paths(sub_ids, first_level_dir, run, \"sub-{sub_id}_run-{run}_beta*_ck.nii.gz\")"
   ]
  },
  {
   "cell_type": "code",
   "execution_count": 63,
   "metadata": {},
   "outputs": [
    {
     "data": {
      "text/plain": [
       "['/home/ubuntu/data/learning-habits/bids_dataset/derivatives/nilearn/both_modulators_exclude_20250206/sub-01/run-learning2/sub-01_run-learning2_beta_first_stim_value_rl.nii.gz',\n",
       " '/home/ubuntu/data/learning-habits/bids_dataset/derivatives/nilearn/both_modulators_exclude_20250206/sub-02/run-learning2/sub-02_run-learning2_beta_first_stim_value_rl.nii.gz',\n",
       " '/home/ubuntu/data/learning-habits/bids_dataset/derivatives/nilearn/both_modulators_exclude_20250206/sub-03/run-learning2/sub-03_run-learning2_beta_first_stim_value_rl.nii.gz',\n",
       " '/home/ubuntu/data/learning-habits/bids_dataset/derivatives/nilearn/both_modulators_exclude_20250206/sub-04/run-learning2/sub-04_run-learning2_beta_first_stim_value_rl.nii.gz',\n",
       " '/home/ubuntu/data/learning-habits/bids_dataset/derivatives/nilearn/both_modulators_exclude_20250206/sub-05/run-learning2/sub-05_run-learning2_beta_first_stim_value_rl.nii.gz']"
      ]
     },
     "execution_count": 63,
     "metadata": {},
     "output_type": "execute_result"
    }
   ],
   "source": [
    "contrast_modulator_RL_paths[:5]"
   ]
  },
  {
   "cell_type": "code",
   "execution_count": 64,
   "metadata": {},
   "outputs": [],
   "source": [
    "contrast_modulator_RL_dict = {path: image.load_img(path) for path in contrast_modulator_RL_paths}\n",
    "contrast_modulator_CK_dict = {path: image.load_img(path) for path in contrast_modulator_CK_paths}"
   ]
  },
  {
   "cell_type": "code",
   "execution_count": 65,
   "metadata": {},
   "outputs": [],
   "source": [
    "from scipy.stats import pearsonr\n",
    "\n",
    "correlations = []\n",
    "\n",
    "for sub_id in matched_sub_ids:\n",
    "    rl_img = contrast_modulator_RL_dict[contrast_modulator_RL_paths[matched_sub_ids.index(sub_id)]]\n",
    "    ck_img = contrast_modulator_CK_dict[contrast_modulator_CK_paths[matched_sub_ids.index(sub_id)]]\n",
    "    \n",
    "    rl_data = rl_img.get_fdata()\n",
    "    ck_data = ck_img.get_fdata()\n",
    "    \n",
    "    # Flatten the data and remove NaNs\n",
    "    rl_data_flat = rl_data.flatten()\n",
    "    ck_data_flat = ck_data.flatten()\n",
    "    \n",
    "    valid_mask = ~np.isnan(rl_data_flat) & ~np.isnan(ck_data_flat)\n",
    "    rl_data_flat = rl_data_flat[valid_mask]\n",
    "    ck_data_flat = ck_data_flat[valid_mask]\n",
    "    \n",
    "    # Compute the correlation\n",
    "    corr, _ = pearsonr(rl_data_flat, ck_data_flat)\n",
    "    correlations.append(corr)"
   ]
  },
  {
   "cell_type": "code",
   "execution_count": 66,
   "metadata": {},
   "outputs": [
    {
     "data": {
      "image/png": "[encoded data removed]",
      "text/plain": [
       "<Figure size 640x480 with 1 Axes>"
      ]
     },
     "metadata": {},
     "output_type": "display_data"
    }
   ],
   "source": [
    "plt.hist(correlations);"
   ]
  },
  {
   "cell_type": "markdown",
   "metadata": {},
   "source": [
    "# Design matrices"
   ]
  },
  {
   "cell_type": "code",
   "execution_count": 67,
   "metadata": {},
   "outputs": [],
   "source": [
    "pattern = \"sub-{sub_id}_run-{run}_design_matrix.csv\"\n",
    "dm_paths = [glob.glob(os.path.join(first_level_dir, f\"sub-{sub_id}\", f\"run-{run}\", \n",
    "                                   pattern.format(sub_id=sub_id, run=run)))[0] for sub_id in matched_sub_ids]"
   ]
  },
  {
   "cell_type": "code",
   "execution_count": 68,
   "metadata": {},
   "outputs": [],
   "source": [
    "DMs = [pd.read_csv(path) for path in dm_paths]"
   ]
  },
  {
   "cell_type": "code",
   "execution_count": 69,
   "metadata": {},
   "outputs": [
    {
     "name": "stderr",
     "output_type": "stream",
     "text": [
      "/tmp/ipykernel_100655/1551144771.py:1: ConstantInputWarning: An input array is constant; the correlation coefficient is not defined.\n",
      "  dm_corr = [pearsonr(dm.first_stim_value_rl, dm.first_stim_value_ck)[0] for dm in DMs]\n"
     ]
    }
   ],
   "source": [
    "dm_corr = [pearsonr(dm.first_stim_value_rl, dm.first_stim_value_ck)[0] for dm in DMs]"
   ]
  },
  {
   "cell_type": "code",
   "execution_count": 105,
   "metadata": {},
   "outputs": [
    {
     "data": {
      "text/plain": [
       "(array([ 2.,  3.,  4.,  4.,  7.,  8.,  7., 10.,  5.,  4.]),\n",
       " array([-0.41035724, -0.34746874, -0.28458023, -0.22169173, -0.15880322,\n",
       "        -0.09591471, -0.03302621,  0.0298623 ,  0.09275081,  0.15563931,\n",
       "         0.21852782]),\n",
       " <BarContainer object of 10 artists>)"
      ]
     },
     "execution_count": 105,
     "metadata": {},
     "output_type": "execute_result"
    },
    {
     "data": {
      "image/png": "[encoded data removed]",
      "text/plain": [
       "<Figure size 640x480 with 1 Axes>"
      ]
     },
     "metadata": {},
     "output_type": "display_data"
    }
   ],
   "source": [
    "plt.hist(dm_corr)"
   ]
  },
  {
   "cell_type": "code",
   "execution_count": null,
   "metadata": {},
   "outputs": [],
   "source": []
  }
 ],
 "metadata": {
  "kernelspec": {
   "display_name": "neuroim",
   "language": "python",
   "name": "python3"
  },
  "language_info": {
   "codemirror_mode": {
    "name": "ipython",
    "version": 3
   },
   "file_extension": ".py",
   "mimetype": "text/x-python",
   "name": "python",
   "nbconvert_exporter": "python",
   "pygments_lexer": "ipython3",
   "version": "3.10.14"
  }
 },
 "nbformat": 4,
 "nbformat_minor": 2
}
