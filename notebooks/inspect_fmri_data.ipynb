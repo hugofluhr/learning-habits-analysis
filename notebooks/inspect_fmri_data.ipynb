{
 "cells": [
  {
   "cell_type": "code",
   "execution_count": 1,
   "id": "d69f6af9",
   "metadata": {},
   "outputs": [],
   "source": [
    "import sys\n",
    "import numpy as np\n",
    "import pandas as pd\n",
    "from matplotlib import pyplot as plt\n",
    "from nilearn import datasets, image, plotting\n",
    "from nilearn.masking import apply_mask\n",
    "from nilearn.signal import clean\n",
    "sys.path.append('..')\n",
    "from utils.data import Subject, load_participant_list"
   ]
  },
  {
   "cell_type": "code",
   "execution_count": 2,
   "id": "858c4560",
   "metadata": {},
   "outputs": [],
   "source": [
    "sub = '02'\n",
    "run = 'test'\n",
    "tr = 2.33384"
   ]
  },
  {
   "cell_type": "code",
   "execution_count": 3,
   "id": "493b6700",
   "metadata": {},
   "outputs": [],
   "source": [
    "base_dir = '/home/ubuntu/data/learning-habits'\n",
    "bids_dir = \"/home/ubuntu/data/learning-habits/bids_dataset/derivatives/fmriprep-24.0.1\"\n",
    "\n",
    "sub_ids = load_participant_list(base_dir)"
   ]
  },
  {
   "cell_type": "code",
   "execution_count": 4,
   "id": "74cbc9b4",
   "metadata": {},
   "outputs": [
    {
     "name": "stdout",
     "output_type": "stream",
     "text": [
      "GM Visual cortex V1 BA17\n"
     ]
    }
   ],
   "source": [
    "# Load a V1 mask\n",
    "# Example using Juelich atlas (probabilistic)\n",
    "juelich = datasets.fetch_atlas_juelich('maxprob-thr50-1mm')\n",
    "labels = juelich.labels\n",
    "# Suppose index 8 is V1 left\n",
    "v1_index = 48\n",
    "print(labels[v1_index])  # Look for 'Primary visual cortex' or 'V1'\n",
    "\n",
    "v1_mask_img = image.math_img(\"img == %d\" % v1_index, img=juelich.maps)"
   ]
  },
  {
   "cell_type": "code",
   "execution_count": 5,
   "id": "ad2813ef",
   "metadata": {},
   "outputs": [],
   "source": [
    "#plotting.plot_roi(v1_mask_img, title='V1 mask', display_mode='mosaic')"
   ]
  },
  {
   "cell_type": "code",
   "execution_count": 6,
   "id": "c3cf27ca",
   "metadata": {},
   "outputs": [],
   "source": [
    "subject = Subject(base_dir, sub, include_modeling=False, include_imaging=True, bids_dir=bids_dir)"
   ]
  },
  {
   "cell_type": "code",
   "execution_count": 7,
   "id": "28633317",
   "metadata": {},
   "outputs": [],
   "source": [
    "# Load fMRI volume\n",
    "img_path = subject.img.get(run)\n",
    "fmri_img = image.load_img(img_path)\n",
    "\n",
    "# resample mask\n",
    "v1_mask_img = image.resample_to_img(v1_mask_img, fmri_img, interpolation='nearest')"
   ]
  },
  {
   "cell_type": "code",
   "execution_count": 28,
   "id": "751cf2f6",
   "metadata": {},
   "outputs": [],
   "source": [
    "anat_path = (\n",
    "    subject.get_brain_mask(run)\n",
    "    .replace('/func/', '/anat/')[:106] + \n",
    "    'run-1_desc-preproc_T1w.nii.gz'\n",
    ")\n",
    "anat_img = image.load_img(anat_path)"
   ]
  },
  {
   "cell_type": "code",
   "execution_count": null,
   "id": "3d888952",
   "metadata": {},
   "outputs": [],
   "source": [
    "brain_mask = image.load_img(subject.get_brain_mask(run))"
   ]
  },
  {
   "cell_type": "code",
   "execution_count": 8,
   "id": "e5c308b1",
   "metadata": {},
   "outputs": [
    {
     "data": {
      "text/plain": [
       "array([[   3. ,    0. ,    0. ,  -78. ],\n",
       "       [   0. ,    3. ,    0. , -114. ],\n",
       "       [   0. ,    0. ,    3.5,  -78. ],\n",
       "       [   0. ,    0. ,    0. ,    1. ]])"
      ]
     },
     "execution_count": 8,
     "metadata": {},
     "output_type": "execute_result"
    }
   ],
   "source": [
    "fmri_img.affine"
   ]
  },
  {
   "cell_type": "code",
   "execution_count": 13,
   "id": "f5a53405",
   "metadata": {},
   "outputs": [
    {
     "data": {
      "text/plain": [
       "array([[   3. ,    0. ,    0. ,  -78. ],\n",
       "       [   0. ,    3. ,    0. , -114. ],\n",
       "       [   0. ,    0. ,    3.5,  -78. ],\n",
       "       [   0. ,    0. ,    0. ,    1. ]])"
      ]
     },
     "execution_count": 13,
     "metadata": {},
     "output_type": "execute_result"
    }
   ],
   "source": [
    "brain_mask.affine"
   ]
  },
  {
   "cell_type": "code",
   "execution_count": 30,
   "id": "51bbc427",
   "metadata": {},
   "outputs": [
    {
     "data": {
      "text/plain": [
       "array([[   1.        ,    0.        ,    0.        ,  -85.        ],\n",
       "       [   0.        ,    0.93969262,   -0.34202015,  -75.90440369],\n",
       "       [   0.        ,    0.34202015,    0.93969262, -162.77752686],\n",
       "       [   0.        ,    0.        ,    0.        ,    1.        ]])"
      ]
     },
     "execution_count": 30,
     "metadata": {},
     "output_type": "execute_result"
    }
   ],
   "source": [
    "anat_img.affine"
   ]
  },
  {
   "cell_type": "code",
   "execution_count": null,
   "id": "636b433f",
   "metadata": {},
   "outputs": [],
   "source": [
    "# Load events\n",
    "events = getattr(subject, run).events"
   ]
  },
  {
   "cell_type": "code",
   "execution_count": null,
   "id": "33571a4b",
   "metadata": {},
   "outputs": [],
   "source": [
    "# Load confounds\n",
    "confounds, sample_mask = subject.load_confounds(run, motion_type='basic')\n",
    "physio_regressors = subject.load_physio_regressors(run)\n",
    "confounds = confounds.join(physio_regressors)"
   ]
  },
  {
   "cell_type": "code",
   "execution_count": null,
   "id": "a559aacc",
   "metadata": {},
   "outputs": [
    {
     "name": "stderr",
     "output_type": "stream",
     "text": [
      "/tmp/ipykernel_295346/2199374517.py:2: DeprecationWarning: The default strategy for standardize is currently 'zscore' which incorrectly uses population std to calculate sample zscores. The new strategy 'zscore_sample' corrects this behavior by using the sample std. In release 0.13, the default strategy will be replaced by the new strategy and the 'zscore' option will be removed. Please use 'zscore_sample' instead.\n",
      "  cleaned_masked_img = clean(masked_img, confounds=confounds, t_r=tr, detrend = True,\n"
     ]
    }
   ],
   "source": [
    "masked_img = apply_mask(fmri_img, v1_mask_img)\n",
    "cleaned_masked_img = clean(masked_img, confounds=confounds, t_r=tr, detrend = True,\n",
    "                           standardize='zscore_sample')"
   ]
  }
 ],
 "metadata": {
  "kernelspec": {
   "display_name": "neuroim",
   "language": "python",
   "name": "python3"
  },
  "language_info": {
   "codemirror_mode": {
    "name": "ipython",
    "version": 3
   },
   "file_extension": ".py",
   "mimetype": "text/x-python",
   "name": "python",
   "nbconvert_exporter": "python",
   "pygments_lexer": "ipython3",
   "version": "3.10.14"
  }
 },
 "nbformat": 4,
 "nbformat_minor": 5
}
