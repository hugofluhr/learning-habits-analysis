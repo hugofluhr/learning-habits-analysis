{
 "cells": [
  {
   "cell_type": "code",
   "execution_count": 1,
   "metadata": {},
   "outputs": [],
   "source": [
    "%load_ext autoreload\n",
    "%autoreload 2"
   ]
  },
  {
   "cell_type": "code",
   "execution_count": 37,
   "metadata": {},
   "outputs": [],
   "source": [
    "import sys\n",
    "import os\n",
    "import pandas as pd\n",
    "import numpy as np\n",
    "from matplotlib import pyplot as plt\n",
    "from nilearn import image\n",
    "from nilearn.glm.first_level import FirstLevelModel, make_first_level_design_matrix\n",
    "from nilearn.plotting import plot_design_matrix, plot_stat_map\n",
    "from nilearn.interfaces.fmriprep import load_confounds\n",
    "from nilearn import plotting\n",
    "sys.path.append('..')\n",
    "from utils.data import Subject, load_participant_list"
   ]
  },
  {
   "cell_type": "code",
   "execution_count": 3,
   "metadata": {},
   "outputs": [],
   "source": [
    "base_dir = '/Users/hugofluhr/data/LH_dev'\n",
    "bids_dir = \"/Users/hugofluhr/data/LH_dev/fmriprep-23.2.1\"\n",
    "\n",
    "dev_sub_ids = ['01', '02', '03', '05', '06', '09']\n",
    "all_sub_ids = load_participant_list(base_dir)\n",
    "\n",
    "sub_ids = all_sub_ids"
   ]
  },
  {
   "cell_type": "code",
   "execution_count": 4,
   "metadata": {},
   "outputs": [
    {
     "name": "stderr",
     "output_type": "stream",
     "text": [
      "/Users/hugofluhr/phd_local/repositories/RewardPairsTask_Analysis/notebooks/../utils/data.py:166: UserWarning: Last 1 trial(s) of block had no response, filling with 0\n",
      "/Users/hugofluhr/phd_local/repositories/RewardPairsTask_Analysis/notebooks/../utils/data.py:166: UserWarning: Last 1 trial(s) of block had no response, filling with 0\n"
     ]
    }
   ],
   "source": [
    "subjects = [Subject(base_dir, sub_id, include_modeling=True, include_imaging=True, bids_dir=bids_dir) for sub_id in sub_ids]"
   ]
  },
  {
   "cell_type": "markdown",
   "metadata": {},
   "source": [
    "# Setting parameters"
   ]
  },
  {
   "cell_type": "code",
   "execution_count": 5,
   "metadata": {},
   "outputs": [],
   "source": [
    "tr = 2.33384\n",
    "\n",
    "subject = subjects[10]\n",
    "run = 'learning1'\n",
    "# ref to the block\n",
    "block = getattr(subject, run)"
   ]
  },
  {
   "cell_type": "markdown",
   "metadata": {},
   "source": [
    "# Main model"
   ]
  },
  {
   "cell_type": "code",
   "execution_count": 6,
   "metadata": {},
   "outputs": [
    {
     "data": {
      "text/html": [
       "<div>\n",
       "<style scoped>\n",
       "    .dataframe tbody tr th:only-of-type {\n",
       "        vertical-align: middle;\n",
       "    }\n",
       "\n",
       "    .dataframe tbody tr th {\n",
       "        vertical-align: top;\n",
       "    }\n",
       "\n",
       "    .dataframe thead th {\n",
       "        text-align: right;\n",
       "    }\n",
       "</style>\n",
       "<table border=\"1\" class=\"dataframe\">\n",
       "  <thead>\n",
       "    <tr style=\"text-align: right;\">\n",
       "      <th></th>\n",
       "      <th>onset</th>\n",
       "      <th>duration</th>\n",
       "      <th>trial_type</th>\n",
       "      <th>trial</th>\n",
       "      <th>first_stim_value_rl</th>\n",
       "      <th>first_stim_value_ck</th>\n",
       "    </tr>\n",
       "  </thead>\n",
       "  <tbody>\n",
       "    <tr>\n",
       "      <th>0</th>\n",
       "      <td>0.012303</td>\n",
       "      <td>0.850695</td>\n",
       "      <td>first_stim_presentation</td>\n",
       "      <td>1</td>\n",
       "      <td>0.888207</td>\n",
       "      <td>0.0</td>\n",
       "    </tr>\n",
       "    <tr>\n",
       "      <th>1</th>\n",
       "      <td>0.862997</td>\n",
       "      <td>0.973241</td>\n",
       "      <td>second_stim_presentation</td>\n",
       "      <td>1</td>\n",
       "      <td>0.000000</td>\n",
       "      <td>0.0</td>\n",
       "    </tr>\n",
       "    <tr>\n",
       "      <th>2</th>\n",
       "      <td>1.836239</td>\n",
       "      <td>0.000000</td>\n",
       "      <td>response</td>\n",
       "      <td>1</td>\n",
       "      <td>0.000000</td>\n",
       "      <td>0.0</td>\n",
       "    </tr>\n",
       "    <tr>\n",
       "      <th>3</th>\n",
       "      <td>1.847222</td>\n",
       "      <td>1.551450</td>\n",
       "      <td>purple_frame</td>\n",
       "      <td>1</td>\n",
       "      <td>0.000000</td>\n",
       "      <td>0.0</td>\n",
       "    </tr>\n",
       "    <tr>\n",
       "      <th>4</th>\n",
       "      <td>2.364394</td>\n",
       "      <td>1.034278</td>\n",
       "      <td>points_feedback</td>\n",
       "      <td>1</td>\n",
       "      <td>0.000000</td>\n",
       "      <td>0.0</td>\n",
       "    </tr>\n",
       "  </tbody>\n",
       "</table>\n",
       "</div>"
      ],
      "text/plain": [
       "      onset  duration                trial_type  trial  first_stim_value_rl  \\\n",
       "0  0.012303  0.850695   first_stim_presentation      1             0.888207   \n",
       "1  0.862997  0.973241  second_stim_presentation      1             0.000000   \n",
       "2  1.836239  0.000000                  response      1             0.000000   \n",
       "3  1.847222  1.551450              purple_frame      1             0.000000   \n",
       "4  2.364394  1.034278           points_feedback      1             0.000000   \n",
       "\n",
       "   first_stim_value_ck  \n",
       "0                  0.0  \n",
       "1                  0.0  \n",
       "2                  0.0  \n",
       "3                  0.0  \n",
       "4                  0.0  "
      ]
     },
     "execution_count": 6,
     "metadata": {},
     "output_type": "execute_result"
    }
   ],
   "source": [
    "events = block.extend_events_df()\n",
    "events.head(5)"
   ]
  },
  {
   "cell_type": "code",
   "execution_count": 7,
   "metadata": {},
   "outputs": [],
   "source": [
    "img_path = subject.img.get(run)\n",
    "fmri_img = image.load_img(img_path)"
   ]
  },
  {
   "cell_type": "code",
   "execution_count": 8,
   "metadata": {},
   "outputs": [],
   "source": [
    "confounds, sample_mask  = load_confounds(img_path,\n",
    "                                         strategy=('motion','high_pass','wm_csf',\n",
    "                                                   'scrub'),\n",
    "                                         scrub=0,\n",
    "                                         fd_threshold=0.5,\n",
    "                                         std_dvars_threshold=1.5) # type: ignore"
   ]
  },
  {
   "cell_type": "code",
   "execution_count": 9,
   "metadata": {},
   "outputs": [
    {
     "data": {
      "text/plain": [
       "Index(['cosine00', 'cosine01', 'cosine02', 'cosine03', 'cosine04', 'cosine05',\n",
       "       'cosine06', 'cosine07', 'cosine08', 'cosine09', 'cosine10', 'cosine11',\n",
       "       'cosine12', 'cosine13', 'csf', 'rot_x', 'rot_x_derivative1',\n",
       "       'rot_x_derivative1_power2', 'rot_x_power2', 'rot_y',\n",
       "       'rot_y_derivative1', 'rot_y_derivative1_power2', 'rot_y_power2',\n",
       "       'rot_z', 'rot_z_derivative1', 'rot_z_derivative1_power2',\n",
       "       'rot_z_power2', 'trans_x', 'trans_x_derivative1',\n",
       "       'trans_x_derivative1_power2', 'trans_x_power2', 'trans_y',\n",
       "       'trans_y_derivative1', 'trans_y_derivative1_power2', 'trans_y_power2',\n",
       "       'trans_z', 'trans_z_derivative1', 'trans_z_derivative1_power2',\n",
       "       'trans_z_power2', 'white_matter'],\n",
       "      dtype='object')"
      ]
     },
     "execution_count": 9,
     "metadata": {},
     "output_type": "execute_result"
    }
   ],
   "source": [
    "confounds.columns"
   ]
  },
  {
   "cell_type": "markdown",
   "metadata": {},
   "source": [
    "# Using nilearn's FirstLevelModel"
   ]
  },
  {
   "cell_type": "code",
   "execution_count": 10,
   "metadata": {},
   "outputs": [],
   "source": [
    "model1 = FirstLevelModel(\n",
    "    t_r=2.33384,  # Set your TR (repetition time)\n",
    "    slice_time_ref=.5,  # Set the slice timing reference\n",
    "    noise_model='ar1',  # autocorrelation noise model\n",
    "    standardize=True,  # standardize the data\n",
    "    hrf_model='spm',\n",
    "    drift_model=None,  # using the fmriprep high-pass filter\n",
    "    high_pass=0.01,  # in Hz\n",
    "    smoothing_fwhm=5,  # in mm\n",
    "    mask_img=None,  # Specify a mask if needed, otherwise Nilearn can compute one\n",
    ")"
   ]
  },
  {
   "cell_type": "code",
   "execution_count": 11,
   "metadata": {},
   "outputs": [
    {
     "name": "stderr",
     "output_type": "stream",
     "text": [
      "/Users/hugofluhr/miniforge3/envs/neuroim/lib/python3.10/site-packages/nilearn/glm/first_level/experimental_paradigm.py:142: UserWarning: The following conditions contain events with null duration:\n",
      "response.\n",
      "  warnings.warn(\n",
      "/Users/hugofluhr/miniforge3/envs/neuroim/lib/python3.10/site-packages/nilearn/glm/first_level/experimental_paradigm.py:167: UserWarning: The following unexpected columns in events data will be ignored: first_stim_value_rl, trial, first_stim_value_ck\n",
      "  warnings.warn(\n"
     ]
    }
   ],
   "source": [
    "# Fit the model\n",
    "model1 = model1.fit(fmri_img, events=events, confounds=confounds)#, sample_masks=sample_mask)"
   ]
  },
  {
   "cell_type": "code",
   "execution_count": null,
   "metadata": {},
   "outputs": [],
   "source": [
    "#plot_design_matrix(model1.design_matrices_[0])\n",
    "#plt.show()"
   ]
  },
  {
   "cell_type": "markdown",
   "metadata": {},
   "source": [
    "# Explicitely building the design matrix"
   ]
  },
  {
   "cell_type": "code",
   "execution_count": 13,
   "metadata": {},
   "outputs": [],
   "source": [
    "n = fmri_img.shape[-1]\n",
    "frametimes = np.linspace(tr/2., (n - .5)*tr, n) # from Gilles, checked with nilearn FirstLevelModel"
   ]
  },
  {
   "cell_type": "code",
   "execution_count": 14,
   "metadata": {},
   "outputs": [
    {
     "name": "stderr",
     "output_type": "stream",
     "text": [
      "/Users/hugofluhr/miniforge3/envs/neuroim/lib/python3.10/site-packages/nilearn/glm/first_level/experimental_paradigm.py:142: UserWarning: The following conditions contain events with null duration:\n",
      "response.\n",
      "  warnings.warn(\n",
      "/Users/hugofluhr/miniforge3/envs/neuroim/lib/python3.10/site-packages/nilearn/glm/first_level/experimental_paradigm.py:167: UserWarning: The following unexpected columns in events data will be ignored: first_stim_value_rl, trial, first_stim_value_ck\n",
      "  warnings.warn(\n"
     ]
    }
   ],
   "source": [
    "X1 = make_first_level_design_matrix(frame_times=frametimes,\n",
    "                                    events=events,\n",
    "                                    hrf_model='spm',\n",
    "                                    drift_model=None,\n",
    "                                    high_pass=0.01,\n",
    "                                    add_regs=confounds)"
   ]
  },
  {
   "cell_type": "code",
   "execution_count": 18,
   "metadata": {},
   "outputs": [
    {
     "data": {
      "text/plain": [
       "0.0"
      ]
     },
     "execution_count": 18,
     "metadata": {},
     "output_type": "execute_result"
    }
   ],
   "source": [
    "# Compare the design matrics generated by both methods to confirm equivalence\n",
    "(X1 - model1.design_matrices_[0]).sum().sum()"
   ]
  },
  {
   "cell_type": "code",
   "execution_count": 66,
   "metadata": {},
   "outputs": [],
   "source": [
    "model2 = FirstLevelModel(smoothing_fwhm=5)"
   ]
  },
  {
   "cell_type": "code",
   "execution_count": 67,
   "metadata": {},
   "outputs": [],
   "source": [
    "model2 = model2.fit(fmri_img, design_matrices=X1)"
   ]
  },
  {
   "cell_type": "markdown",
   "metadata": {},
   "source": [
    "# Plotting results"
   ]
  },
  {
   "cell_type": "code",
   "execution_count": 68,
   "metadata": {},
   "outputs": [
    {
     "data": {
      "text/plain": [
       "<nilearn.plotting.displays._slicers.OrthoSlicer at 0x316f21450>"
      ]
     },
     "execution_count": 68,
     "metadata": {},
     "output_type": "execute_result"
    },
    {
     "data": {
      "image/png": "[encoded data removed]",
      "text/plain": [
       "<Figure size 730x350 with 5 Axes>"
      ]
     },
     "metadata": {},
     "output_type": "display_data"
    }
   ],
   "source": [
    "z_map1 = model1.compute_contrast(\n",
    "    contrast_def=\"first_stim_presentation - iti\", output_type=\"z_score\"\n",
    ")\n",
    "\n",
    "plot_stat_map(\n",
    "    z_map1,\n",
    "    threshold=3.0,\n",
    "    title=f\"toy contrast\",\n",
    ")"
   ]
  },
  {
   "cell_type": "code",
   "execution_count": 69,
   "metadata": {},
   "outputs": [
    {
     "data": {
      "text/plain": [
       "0.0"
      ]
     },
     "execution_count": 69,
     "metadata": {},
     "output_type": "execute_result"
    }
   ],
   "source": [
    "z_map2 = model2.compute_contrast(\n",
    "    contrast_def=\"first_stim_presentation - iti\", output_type=\"z_score\"\n",
    ")\n",
    "# Compate the 2 zmaps as additional check, changing any parameter (e.g. spatial smoothing changes the results)\n",
    "(z_map1.dataobj-z_map2.dataobj).sum()\n"
   ]
  },
  {
   "cell_type": "code",
   "execution_count": null,
   "metadata": {},
   "outputs": [],
   "source": []
  }
 ],
 "metadata": {
  "kernelspec": {
   "display_name": "neuroim",
   "language": "python",
   "name": "python3"
  },
  "language_info": {
   "codemirror_mode": {
    "name": "ipython",
    "version": 3
   },
   "file_extension": ".py",
   "mimetype": "text/x-python",
   "name": "python",
   "nbconvert_exporter": "python",
   "pygments_lexer": "ipython3",
   "version": "3.10.14"
  }
 },
 "nbformat": 4,
 "nbformat_minor": 2
}
