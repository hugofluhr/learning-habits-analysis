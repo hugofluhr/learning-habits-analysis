{
 "cells": [
  {
   "cell_type": "code",
   "execution_count": 1,
   "metadata": {},
   "outputs": [],
   "source": [
    "%load_ext autoreload\n",
    "%autoreload 2"
   ]
  },
  {
   "cell_type": "code",
   "execution_count": 2,
   "metadata": {},
   "outputs": [],
   "source": [
    "import sys\n",
    "import os\n",
    "import pandas as pd\n",
    "import numpy as np\n",
    "from matplotlib import pyplot as plt\n",
    "from nilearn import image\n",
    "from nilearn.glm.first_level import FirstLevelModel\n",
    "from nilearn.plotting import plot_design_matrix\n",
    "from nilearn import plotting\n",
    "from bids import BIDSLayout\n",
    "from bids.reports import BIDSReport\n",
    "sys.path.append('..')\n",
    "from utils.data import Subject, Block, load_participant_list"
   ]
  },
  {
   "cell_type": "code",
   "execution_count": 3,
   "metadata": {},
   "outputs": [],
   "source": [
    "base_dir = '/Users/hugofluhr/data/LH_dev'\n",
    "sub_ids = ['01', '02', '03', '05', '06', '09']\n",
    "all_sub_ids = load_participant_list(base_dir)"
   ]
  },
  {
   "cell_type": "code",
   "execution_count": 4,
   "metadata": {},
   "outputs": [],
   "source": [
    "all_sub_ids.remove('04')"
   ]
  },
  {
   "cell_type": "code",
   "execution_count": 5,
   "metadata": {},
   "outputs": [
    {
     "name": "stderr",
     "output_type": "stream",
     "text": [
      "/Users/hugofluhr/phd_local/repositories/RewardPairsTask_Analysis/notebooks/../utils/data.py:166: UserWarning: Last 1 trial(s) of block had no response, filling with 0\n"
     ]
    }
   ],
   "source": [
    "subjects = [Subject(base_dir, 'sub-'+sub_id, include_modeling=True) for sub_id in all_sub_ids]"
   ]
  },
  {
   "cell_type": "code",
   "execution_count": 6,
   "metadata": {},
   "outputs": [
    {
     "data": {
      "text/html": [
       "<div>\n",
       "<style scoped>\n",
       "    .dataframe tbody tr th:only-of-type {\n",
       "        vertical-align: middle;\n",
       "    }\n",
       "\n",
       "    .dataframe tbody tr th {\n",
       "        vertical-align: top;\n",
       "    }\n",
       "\n",
       "    .dataframe thead th {\n",
       "        text-align: right;\n",
       "    }\n",
       "</style>\n",
       "<table border=\"1\" class=\"dataframe\">\n",
       "  <thead>\n",
       "    <tr style=\"text-align: right;\">\n",
       "      <th></th>\n",
       "      <th>block</th>\n",
       "      <th>left_stim</th>\n",
       "      <th>right_stim</th>\n",
       "      <th>left_value</th>\n",
       "      <th>right_value</th>\n",
       "      <th>shift</th>\n",
       "      <th>action</th>\n",
       "      <th>rt</th>\n",
       "      <th>chosen_stim</th>\n",
       "      <th>reward</th>\n",
       "      <th>correct</th>\n",
       "      <th>t_first_stim</th>\n",
       "      <th>t_second_stim</th>\n",
       "      <th>t_action</th>\n",
       "      <th>t_purple_frame</th>\n",
       "      <th>t_points_feedback</th>\n",
       "      <th>t_iti_onset</th>\n",
       "      <th>t_trial_end</th>\n",
       "    </tr>\n",
       "  </thead>\n",
       "  <tbody>\n",
       "    <tr>\n",
       "      <th>0</th>\n",
       "      <td>learning1</td>\n",
       "      <td>5</td>\n",
       "      <td>7</td>\n",
       "      <td>3</td>\n",
       "      <td>4</td>\n",
       "      <td>0</td>\n",
       "      <td>1.0</td>\n",
       "      <td>0.934432</td>\n",
       "      <td>5.0</td>\n",
       "      <td>3.0</td>\n",
       "      <td>0.0</td>\n",
       "      <td>0.009399</td>\n",
       "      <td>0.826556</td>\n",
       "      <td>1.760988</td>\n",
       "      <td>1.766016</td>\n",
       "      <td>2.268539</td>\n",
       "      <td>3.335600</td>\n",
       "      <td>10.010661</td>\n",
       "    </tr>\n",
       "    <tr>\n",
       "      <th>1</th>\n",
       "      <td>learning1</td>\n",
       "      <td>4</td>\n",
       "      <td>6</td>\n",
       "      <td>3</td>\n",
       "      <td>4</td>\n",
       "      <td>1</td>\n",
       "      <td>1.0</td>\n",
       "      <td>0.645392</td>\n",
       "      <td>4.0</td>\n",
       "      <td>3.0</td>\n",
       "      <td>0.0</td>\n",
       "      <td>10.010661</td>\n",
       "      <td>10.895611</td>\n",
       "      <td>11.541003</td>\n",
       "      <td>11.543884</td>\n",
       "      <td>12.045623</td>\n",
       "      <td>13.401687</td>\n",
       "      <td>20.403639</td>\n",
       "    </tr>\n",
       "    <tr>\n",
       "      <th>2</th>\n",
       "      <td>learning1</td>\n",
       "      <td>3</td>\n",
       "      <td>1</td>\n",
       "      <td>2</td>\n",
       "      <td>1</td>\n",
       "      <td>0</td>\n",
       "      <td>NaN</td>\n",
       "      <td>NaN</td>\n",
       "      <td>NaN</td>\n",
       "      <td>NaN</td>\n",
       "      <td>NaN</td>\n",
       "      <td>20.403639</td>\n",
       "      <td>21.369311</td>\n",
       "      <td>0.000000</td>\n",
       "      <td>0.000000</td>\n",
       "      <td>0.000000</td>\n",
       "      <td>23.875462</td>\n",
       "      <td>30.675264</td>\n",
       "    </tr>\n",
       "    <tr>\n",
       "      <th>3</th>\n",
       "      <td>learning1</td>\n",
       "      <td>6</td>\n",
       "      <td>8</td>\n",
       "      <td>4</td>\n",
       "      <td>5</td>\n",
       "      <td>0</td>\n",
       "      <td>1.0</td>\n",
       "      <td>0.368762</td>\n",
       "      <td>6.0</td>\n",
       "      <td>4.0</td>\n",
       "      <td>0.0</td>\n",
       "      <td>30.675264</td>\n",
       "      <td>31.478573</td>\n",
       "      <td>31.847335</td>\n",
       "      <td>31.849628</td>\n",
       "      <td>32.351760</td>\n",
       "      <td>33.984344</td>\n",
       "      <td>40.081664</td>\n",
       "    </tr>\n",
       "    <tr>\n",
       "      <th>4</th>\n",
       "      <td>learning1</td>\n",
       "      <td>2</td>\n",
       "      <td>4</td>\n",
       "      <td>2</td>\n",
       "      <td>3</td>\n",
       "      <td>0</td>\n",
       "      <td>1.0</td>\n",
       "      <td>0.537730</td>\n",
       "      <td>2.0</td>\n",
       "      <td>2.0</td>\n",
       "      <td>0.0</td>\n",
       "      <td>40.081664</td>\n",
       "      <td>40.994311</td>\n",
       "      <td>41.532041</td>\n",
       "      <td>41.534648</td>\n",
       "      <td>42.036649</td>\n",
       "      <td>43.500880</td>\n",
       "      <td>49.945219</td>\n",
       "    </tr>\n",
       "    <tr>\n",
       "      <th>...</th>\n",
       "      <td>...</td>\n",
       "      <td>...</td>\n",
       "      <td>...</td>\n",
       "      <td>...</td>\n",
       "      <td>...</td>\n",
       "      <td>...</td>\n",
       "      <td>...</td>\n",
       "      <td>...</td>\n",
       "      <td>...</td>\n",
       "      <td>...</td>\n",
       "      <td>...</td>\n",
       "      <td>...</td>\n",
       "      <td>...</td>\n",
       "      <td>...</td>\n",
       "      <td>...</td>\n",
       "      <td>...</td>\n",
       "      <td>...</td>\n",
       "      <td>...</td>\n",
       "    </tr>\n",
       "    <tr>\n",
       "      <th>323</th>\n",
       "      <td>test</td>\n",
       "      <td>4</td>\n",
       "      <td>2</td>\n",
       "      <td>3</td>\n",
       "      <td>2</td>\n",
       "      <td>1</td>\n",
       "      <td>1.0</td>\n",
       "      <td>0.512455</td>\n",
       "      <td>4.0</td>\n",
       "      <td>3.0</td>\n",
       "      <td>1.0</td>\n",
       "      <td>1322.638279</td>\n",
       "      <td>1323.491548</td>\n",
       "      <td>1324.004002</td>\n",
       "      <td>1324.005952</td>\n",
       "      <td>NaN</td>\n",
       "      <td>1325.994450</td>\n",
       "      <td>1332.118539</td>\n",
       "    </tr>\n",
       "    <tr>\n",
       "      <th>324</th>\n",
       "      <td>test</td>\n",
       "      <td>6</td>\n",
       "      <td>4</td>\n",
       "      <td>4</td>\n",
       "      <td>3</td>\n",
       "      <td>1</td>\n",
       "      <td>1.0</td>\n",
       "      <td>0.613739</td>\n",
       "      <td>6.0</td>\n",
       "      <td>4.0</td>\n",
       "      <td>1.0</td>\n",
       "      <td>1332.118539</td>\n",
       "      <td>1332.921338</td>\n",
       "      <td>1333.535078</td>\n",
       "      <td>1333.537728</td>\n",
       "      <td>NaN</td>\n",
       "      <td>1335.424989</td>\n",
       "      <td>1341.450269</td>\n",
       "    </tr>\n",
       "    <tr>\n",
       "      <th>325</th>\n",
       "      <td>test</td>\n",
       "      <td>4</td>\n",
       "      <td>5</td>\n",
       "      <td>3</td>\n",
       "      <td>3</td>\n",
       "      <td>0</td>\n",
       "      <td>1.0</td>\n",
       "      <td>0.884409</td>\n",
       "      <td>4.0</td>\n",
       "      <td>3.0</td>\n",
       "      <td>NaN</td>\n",
       "      <td>1341.450269</td>\n",
       "      <td>1342.319548</td>\n",
       "      <td>1343.203957</td>\n",
       "      <td>1343.205973</td>\n",
       "      <td>NaN</td>\n",
       "      <td>1344.822379</td>\n",
       "      <td>1351.080787</td>\n",
       "    </tr>\n",
       "    <tr>\n",
       "      <th>326</th>\n",
       "      <td>test</td>\n",
       "      <td>3</td>\n",
       "      <td>2</td>\n",
       "      <td>2</td>\n",
       "      <td>2</td>\n",
       "      <td>0</td>\n",
       "      <td>2.0</td>\n",
       "      <td>0.778679</td>\n",
       "      <td>2.0</td>\n",
       "      <td>2.0</td>\n",
       "      <td>NaN</td>\n",
       "      <td>1351.080787</td>\n",
       "      <td>1352.032160</td>\n",
       "      <td>1352.810838</td>\n",
       "      <td>1352.812656</td>\n",
       "      <td>NaN</td>\n",
       "      <td>1354.534839</td>\n",
       "      <td>1360.803064</td>\n",
       "    </tr>\n",
       "    <tr>\n",
       "      <th>327</th>\n",
       "      <td>test</td>\n",
       "      <td>5</td>\n",
       "      <td>2</td>\n",
       "      <td>3</td>\n",
       "      <td>2</td>\n",
       "      <td>1</td>\n",
       "      <td>1.0</td>\n",
       "      <td>0.730383</td>\n",
       "      <td>5.0</td>\n",
       "      <td>3.0</td>\n",
       "      <td>1.0</td>\n",
       "      <td>1360.803064</td>\n",
       "      <td>1361.662430</td>\n",
       "      <td>1362.392813</td>\n",
       "      <td>1362.394750</td>\n",
       "      <td>NaN</td>\n",
       "      <td>1364.165574</td>\n",
       "      <td>1370.401876</td>\n",
       "    </tr>\n",
       "  </tbody>\n",
       "</table>\n",
       "<p>328 rows × 18 columns</p>\n",
       "</div>"
      ],
      "text/plain": [
       "         block  left_stim  right_stim  left_value  right_value  shift  action  \\\n",
       "0    learning1          5           7           3            4      0     1.0   \n",
       "1    learning1          4           6           3            4      1     1.0   \n",
       "2    learning1          3           1           2            1      0     NaN   \n",
       "3    learning1          6           8           4            5      0     1.0   \n",
       "4    learning1          2           4           2            3      0     1.0   \n",
       "..         ...        ...         ...         ...          ...    ...     ...   \n",
       "323       test          4           2           3            2      1     1.0   \n",
       "324       test          6           4           4            3      1     1.0   \n",
       "325       test          4           5           3            3      0     1.0   \n",
       "326       test          3           2           2            2      0     2.0   \n",
       "327       test          5           2           3            2      1     1.0   \n",
       "\n",
       "           rt  chosen_stim  reward  correct  t_first_stim  t_second_stim  \\\n",
       "0    0.934432          5.0     3.0      0.0      0.009399       0.826556   \n",
       "1    0.645392          4.0     3.0      0.0     10.010661      10.895611   \n",
       "2         NaN          NaN     NaN      NaN     20.403639      21.369311   \n",
       "3    0.368762          6.0     4.0      0.0     30.675264      31.478573   \n",
       "4    0.537730          2.0     2.0      0.0     40.081664      40.994311   \n",
       "..        ...          ...     ...      ...           ...            ...   \n",
       "323  0.512455          4.0     3.0      1.0   1322.638279    1323.491548   \n",
       "324  0.613739          6.0     4.0      1.0   1332.118539    1332.921338   \n",
       "325  0.884409          4.0     3.0      NaN   1341.450269    1342.319548   \n",
       "326  0.778679          2.0     2.0      NaN   1351.080787    1352.032160   \n",
       "327  0.730383          5.0     3.0      1.0   1360.803064    1361.662430   \n",
       "\n",
       "        t_action  t_purple_frame  t_points_feedback  t_iti_onset  t_trial_end  \n",
       "0       1.760988        1.766016           2.268539     3.335600    10.010661  \n",
       "1      11.541003       11.543884          12.045623    13.401687    20.403639  \n",
       "2       0.000000        0.000000           0.000000    23.875462    30.675264  \n",
       "3      31.847335       31.849628          32.351760    33.984344    40.081664  \n",
       "4      41.532041       41.534648          42.036649    43.500880    49.945219  \n",
       "..           ...             ...                ...          ...          ...  \n",
       "323  1324.004002     1324.005952                NaN  1325.994450  1332.118539  \n",
       "324  1333.535078     1333.537728                NaN  1335.424989  1341.450269  \n",
       "325  1343.203957     1343.205973                NaN  1344.822379  1351.080787  \n",
       "326  1352.810838     1352.812656                NaN  1354.534839  1360.803064  \n",
       "327  1362.392813     1362.394750                NaN  1364.165574  1370.401876  \n",
       "\n",
       "[328 rows x 18 columns]"
      ]
     },
     "execution_count": 6,
     "metadata": {},
     "output_type": "execute_result"
    }
   ],
   "source": [
    "subjects[0].trials"
   ]
  },
  {
   "cell_type": "code",
   "execution_count": null,
   "metadata": {},
   "outputs": [],
   "source": []
  },
  {
   "cell_type": "markdown",
   "metadata": {},
   "source": [
    "# Checking Dummy scans stuff, alignment of confounds/events with images"
   ]
  },
  {
   "cell_type": "code",
   "execution_count": 7,
   "metadata": {},
   "outputs": [
    {
     "ename": "AttributeError",
     "evalue": "'Subject' object has no attribute 'img'",
     "output_type": "error",
     "traceback": [
      "\u001b[0;31m---------------------------------------------------------------------------\u001b[0m",
      "\u001b[0;31mAttributeError\u001b[0m                            Traceback (most recent call last)",
      "Cell \u001b[0;32mIn[7], line 2\u001b[0m\n\u001b[1;32m      1\u001b[0m sub \u001b[38;5;241m=\u001b[39m subjects[\u001b[38;5;241m0\u001b[39m]\n\u001b[0;32m----> 2\u001b[0m test_phase_bold \u001b[38;5;241m=\u001b[39m image\u001b[38;5;241m.\u001b[39mload_img(\u001b[43msub\u001b[49m\u001b[38;5;241;43m.\u001b[39;49m\u001b[43mimg\u001b[49m[\u001b[38;5;124m'\u001b[39m\u001b[38;5;124mtest\u001b[39m\u001b[38;5;124m'\u001b[39m])\n",
      "\u001b[0;31mAttributeError\u001b[0m: 'Subject' object has no attribute 'img'"
     ]
    }
   ],
   "source": [
    "sub = subjects[0]\n",
    "test_phase_bold = image.load_img(sub.img['test'])"
   ]
  },
  {
   "cell_type": "code",
   "execution_count": 63,
   "metadata": {},
   "outputs": [],
   "source": [
    "n_vols = test_phase_bold.shape[-1]"
   ]
  },
  {
   "cell_type": "code",
   "execution_count": 64,
   "metadata": {},
   "outputs": [],
   "source": [
    "raw_bold = sub.get_bids_files(suffix='bold',run=3, extension='nii')\n",
    "raw_bold = image.load_img(raw_bold[0])"
   ]
  },
  {
   "cell_type": "code",
   "execution_count": null,
   "metadata": {},
   "outputs": [],
   "source": [
    "(n_vols)*2.33384/60"
   ]
  },
  {
   "cell_type": "markdown",
   "metadata": {},
   "source": [
    "# Test Phase, looking at basic constrasts"
   ]
  },
  {
   "cell_type": "code",
   "execution_count": null,
   "metadata": {},
   "outputs": [],
   "source": [
    "events=subject.get_event_df('test')\n",
    "events.head(15)"
   ]
  },
  {
   "cell_type": "code",
   "execution_count": 44,
   "metadata": {},
   "outputs": [],
   "source": [
    "fmri_img = image.load_img(subject.img['test'])"
   ]
  },
  {
   "cell_type": "code",
   "execution_count": 45,
   "metadata": {},
   "outputs": [],
   "source": [
    "# get the confounds\n",
    "confouds_path = '/Users/hugofluhr/data/LH_dev/bids_sample_190924/derivatives/fmriprep-24.0.1_correctB0/sub-01/ses-1/func/sub-01_ses-1_task-test_run-3_desc-confounds_timeseries.tsv'\n",
    "confounds = pd.read_csv(confouds_path, sep='\\t')"
   ]
  },
  {
   "cell_type": "code",
   "execution_count": null,
   "metadata": {},
   "outputs": [],
   "source": [
    "sum(confounds['std_dvars'] > 1.5)"
   ]
  },
  {
   "cell_type": "code",
   "execution_count": 49,
   "metadata": {},
   "outputs": [],
   "source": [
    "from nilearn.interfaces.fmriprep import load_confounds"
   ]
  },
  {
   "cell_type": "code",
   "execution_count": null,
   "metadata": {},
   "outputs": [],
   "source": [
    "load_confounds(subject.img['test'].path)[0]"
   ]
  },
  {
   "cell_type": "code",
   "execution_count": null,
   "metadata": {},
   "outputs": [],
   "source": [
    "print(confounds.columns)\n",
    "used_confounds = ['']"
   ]
  },
  {
   "cell_type": "code",
   "execution_count": null,
   "metadata": {},
   "outputs": [],
   "source": [
    "confounds"
   ]
  },
  {
   "cell_type": "code",
   "execution_count": null,
   "metadata": {},
   "outputs": [],
   "source": []
  }
 ],
 "metadata": {
  "kernelspec": {
   "display_name": "neuroim",
   "language": "python",
   "name": "python3"
  },
  "language_info": {
   "codemirror_mode": {
    "name": "ipython",
    "version": 3
   },
   "file_extension": ".py",
   "mimetype": "text/x-python",
   "name": "python",
   "nbconvert_exporter": "python",
   "pygments_lexer": "ipython3",
   "version": "3.10.14"
  }
 },
 "nbformat": 4,
 "nbformat_minor": 2
}
