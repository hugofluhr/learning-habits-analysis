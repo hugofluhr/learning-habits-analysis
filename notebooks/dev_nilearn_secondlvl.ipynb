{
 "cells": [
  {
   "cell_type": "code",
   "execution_count": 1,
   "metadata": {},
   "outputs": [],
   "source": [
    "import sys\n",
    "import os\n",
    "import glob\n",
    "import pandas as pd\n",
    "import numpy as np\n",
    "from matplotlib import pyplot as plt\n",
    "from nilearn import image\n",
    "from nilearn.glm.second_level import SecondLevelModel\n",
    "from nilearn.glm import threshold_stats_img\n",
    "from nilearn.plotting import plot_design_matrix, plot_stat_map\n",
    "sys.path.append('..')\n",
    "from utils.data import Subject, load_participant_list"
   ]
  },
  {
   "cell_type": "code",
   "execution_count": 34,
   "metadata": {},
   "outputs": [],
   "source": [
    "base_dir = '/Users/hugofluhr/data/LH_dev'\n",
    "bids_dir = '/Users/hugofluhr/data/LH_dev/fmriprep-23.2.1'\n",
    "first_level_dir = '/Users/hugofluhr/data/LH_dev/nilearn_first_level'\n",
    "\n",
    "dev_sub_ids = ['01', '02', '03', '04', '05', '06']\n",
    "all_sub_ids = load_participant_list(base_dir)\n",
    "\n",
    "sub_ids = all_sub_ids"
   ]
  },
  {
   "cell_type": "code",
   "execution_count": null,
   "metadata": {},
   "outputs": [],
   "source": [
    "contrast_modulator_RL_paths = [\n",
    "    glob.glob(os.path.join(first_level_dir, f\"sub-{sub_id}_run-test_model_rl*_z_map.nii.gz\"))[0]\n",
    "    for sub_id in sub_ids\n",
    "]\n",
    "contrast_modulator_CK_paths = [\n",
    "    glob.glob(os.path.join(first_level_dir, f\"sub-{sub_id}_run-test_model_ck*_z_map.nii.gz\"))[0]\n",
    "    for sub_id in sub_ids\n",
    "]\n",
    "\n",
    "contrast_modulator_RL_paths.sort()\n",
    "contrast_modulator_CK_paths.sort()\n",
    "\n",
    "assert len(contrast_modulator_RL_paths) == len(sub_ids), \"Some subjects are missing RL contrast maps.\"\n",
    "assert len(contrast_modulator_CK_paths) == len(sub_ids), \"Some subjects are missing CK contrast maps.\"\n",
    "\n",
    "print(\"All subjects are present for both RL and CK.\")"
   ]
  },
  {
   "cell_type": "code",
   "execution_count": 36,
   "metadata": {},
   "outputs": [],
   "source": [
    "contrast_modulator_RL_imgs = [image.load_img(path) for path in contrast_modulator_RL_paths]\n",
    "contrast_modulator_CK_imgs = [image.load_img(path) for path in contrast_modulator_CK_paths]"
   ]
  },
  {
   "cell_type": "markdown",
   "metadata": {},
   "source": [
    "# Effect of RL values only"
   ]
  },
  {
   "cell_type": "code",
   "execution_count": 37,
   "metadata": {},
   "outputs": [],
   "source": [
    "X_RL = pd.DataFrame([1] * len(contrast_modulator_RL_imgs), columns=['RL_value'])"
   ]
  },
  {
   "cell_type": "code",
   "execution_count": 52,
   "metadata": {},
   "outputs": [],
   "source": [
    "second_level_model_RL = SecondLevelModel(mask_img=bartra_mask_path)\n",
    "second_level_model_RL = second_level_model_RL.fit(contrast_modulator_RL_imgs, design_matrix=X_RL)"
   ]
  },
  {
   "cell_type": "code",
   "execution_count": null,
   "metadata": {},
   "outputs": [],
   "source": [
    "z_map_RL = second_level_model_RL.compute_contrast(output_type='z_score')"
   ]
  },
  {
   "cell_type": "code",
   "execution_count": null,
   "metadata": {},
   "outputs": [],
   "source": [
    "plot_stat_map(z_map_RL, threshold=1, display_mode='mosaic', title='Average effect of RL parametric modulator')\n"
   ]
  },
  {
   "cell_type": "markdown",
   "metadata": {},
   "source": [
    "# Effect of CK values only"
   ]
  },
  {
   "cell_type": "code",
   "execution_count": 43,
   "metadata": {},
   "outputs": [],
   "source": [
    "X_CK = pd.DataFrame([1] * len(contrast_modulator_CK_imgs), columns=['intercept'])"
   ]
  },
  {
   "cell_type": "code",
   "execution_count": 44,
   "metadata": {},
   "outputs": [],
   "source": [
    "second_level_model_CK = SecondLevelModel()#mask_img=bartra_mask_path)\n",
    "second_level_model_CK = second_level_model_CK.fit(contrast_modulator_CK_imgs, design_matrix=X_CK)"
   ]
  },
  {
   "cell_type": "code",
   "execution_count": 45,
   "metadata": {},
   "outputs": [],
   "source": [
    "#z_map_CK = second_level_model_CK.compute_contrast(second_level_contrast='intercept', output_type='z_score')\n",
    "z_map_CK = second_level_model_CK.compute_contrast(output_type='z_score')"
   ]
  },
  {
   "cell_type": "code",
   "execution_count": 46,
   "metadata": {},
   "outputs": [],
   "source": [
    "from nilearn.glm import threshold_stats_img\n",
    "\n",
    "thresholded_map1, threshold1 = threshold_stats_img(\n",
    "    z_map_RL,\n",
    "    alpha=0.001,\n",
    "    height_control=\"fpr\",\n",
    "    cluster_threshold=10,\n",
    "    two_sided=True,\n",
    ")"
   ]
  },
  {
   "cell_type": "code",
   "execution_count": null,
   "metadata": {},
   "outputs": [],
   "source": [
    "threshold1"
   ]
  },
  {
   "cell_type": "code",
   "execution_count": null,
   "metadata": {},
   "outputs": [],
   "source": [
    "plot_stat_map(z_map_CK, threshold=2., display_mode='mosaic', title='Average effect of CK parametric modulator')\n"
   ]
  },
  {
   "cell_type": "code",
   "execution_count": null,
   "metadata": {},
   "outputs": [],
   "source": []
  },
  {
   "cell_type": "code",
   "execution_count": null,
   "metadata": {},
   "outputs": [],
   "source": []
  }
 ],
 "metadata": {
  "kernelspec": {
   "display_name": "neuroim",
   "language": "python",
   "name": "python3"
  },
  "language_info": {
   "codemirror_mode": {
    "name": "ipython",
    "version": 3
   },
   "file_extension": ".py",
   "mimetype": "text/x-python",
   "name": "python",
   "nbconvert_exporter": "python",
   "pygments_lexer": "ipython3",
   "version": "3.10.14"
  }
 },
 "nbformat": 4,
 "nbformat_minor": 2
}
