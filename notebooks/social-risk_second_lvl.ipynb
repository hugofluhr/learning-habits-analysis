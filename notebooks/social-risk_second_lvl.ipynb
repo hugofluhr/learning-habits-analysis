{
 "cells": [
  {
   "cell_type": "code",
   "execution_count": 1,
   "metadata": {},
   "outputs": [],
   "source": [
    "import sys\n",
    "import os\n",
    "import glob\n",
    "import json\n",
    "import pandas as pd\n",
    "import numpy as np\n",
    "from nilearn import image\n",
    "from nilearn.input_data import NiftiMasker\n",
    "from nilearn.glm.second_level import SecondLevelModel\n",
    "from nilearn.glm import threshold_stats_img\n",
    "from nilearn.plotting import plot_stat_map, plot_design_matrix\n",
    "from nilearn.reporting import get_clusters_table\n",
    "sys.path.append('..')\n",
    "from utils.data import print_first_lvl_params"
   ]
  },
  {
   "cell_type": "code",
   "execution_count": 2,
   "metadata": {},
   "outputs": [],
   "source": [
    "first_level_dir = '/home/ubuntu/data/social-risk/nilearn/glm2_20250407'"
   ]
  },
  {
   "cell_type": "markdown",
   "metadata": {},
   "source": [
    "# First level parameters"
   ]
  },
  {
   "cell_type": "code",
   "execution_count": 3,
   "metadata": {},
   "outputs": [
    {
     "name": "stdout",
     "output_type": "stream",
     "text": [
      "model_name: glm2\n",
      "tr: 3.0\n",
      "hrf_model: spm + derivative\n",
      "drift_model: cosine\n",
      "high_pass: 0.0078125\n",
      "noise_model: ar1\n",
      "smoothing_fwhm: None\n",
      "duration: all\n"
     ]
    }
   ],
   "source": [
    "print_first_lvl_params(first_level_dir)"
   ]
  },
  {
   "cell_type": "code",
   "execution_count": 4,
   "metadata": {},
   "outputs": [],
   "source": [
    "sub_ids = os.listdir(first_level_dir)\n",
    "sub_ids.sort()\n",
    "n_subs = len(sub_ids)"
   ]
  },
  {
   "cell_type": "code",
   "execution_count": 5,
   "metadata": {},
   "outputs": [],
   "source": [
    "def build_betamap_dataframe(parent_dir, subject_list):\n",
    "    all_beta_names = set()\n",
    "    subject_betas = {}\n",
    "\n",
    "    for subj in subject_list:\n",
    "        subj_dir = os.path.join(parent_dir, subj)\n",
    "        pattern = os.path.join(subj_dir, '**', f'{subj}_betamap_*.nii.gz')\n",
    "        beta_paths = glob.glob(pattern, recursive=True)\n",
    "\n",
    "        # Strip the subject prefix to get the beta map name\n",
    "        beta_map = {\n",
    "            os.path.basename(path).replace(f\"{subj}_\", \"\"): path\n",
    "            for path in beta_paths\n",
    "        }\n",
    "\n",
    "        subject_betas[subj] = beta_map\n",
    "        all_beta_names.update(beta_map.keys())\n",
    "\n",
    "    all_beta_names = sorted(all_beta_names)\n",
    "\n",
    "    df = pd.DataFrame(columns=all_beta_names, index=subject_list)\n",
    "\n",
    "    for subj in subject_list:\n",
    "        for beta_name in all_beta_names:\n",
    "            df.at[subj, beta_name] = subject_betas[subj].get(beta_name, pd.NA)\n",
    "\n",
    "    # shorten column names\n",
    "    df.columns = [name.replace('betamap_', '').replace('.nii.gz', '') for name in df.columns]\n",
    "    return df"
   ]
  },
  {
   "cell_type": "code",
   "execution_count": 6,
   "metadata": {},
   "outputs": [],
   "source": [
    "def build_con_dataframe(parent_dir, subject_list, contype = 'zmap'):\n",
    "    all_con_names = set()\n",
    "    subject_cons = {}\n",
    "\n",
    "    for subj in subject_list:\n",
    "        subj_dir = os.path.join(parent_dir, subj)\n",
    "        pattern = os.path.join(subj_dir, '**', f'con_*_{contype}.nii.gz')\n",
    "        con_paths = glob.glob(pattern, recursive=True)\n",
    "        con_maps = {\n",
    "            os.path.basename(path).replace(\"con_\", \"\"): path\n",
    "            for path in con_paths\n",
    "        }\n",
    "        subject_cons[subj] = con_maps\n",
    "        all_con_names.update(con_maps.keys())\n",
    "\n",
    "    all_con_names = sorted(all_con_names)\n",
    "\n",
    "    df = pd.DataFrame(columns=all_con_names, index=subject_list)\n",
    "\n",
    "    for subj in subject_list:\n",
    "        for con_name in all_con_names:\n",
    "            df.at[subj, con_name] = subject_cons[subj].get(con_name, pd.NA)\n",
    "\n",
    "    # shorten column names\n",
    "    df.columns = [name.replace('betamap_', '').replace('.nii.gz', '') for name in df.columns]\n",
    "    return df"
   ]
  },
  {
   "cell_type": "code",
   "execution_count": 7,
   "metadata": {},
   "outputs": [],
   "source": [
    "zmaps_df = build_con_dataframe(first_level_dir, sub_ids)\n",
    "bmaps_df = build_con_dataframe(first_level_dir, sub_ids, contype = 'betamap')\n",
    "tmaps_df = build_con_dataframe(first_level_dir, sub_ids, contype = 'statmap')"
   ]
  },
  {
   "cell_type": "code",
   "execution_count": 8,
   "metadata": {},
   "outputs": [
    {
     "data": {
      "text/plain": [
       "Index(['Decision_statmap', 'Decisiondt_statmap', 'Feedback_statmap',\n",
       "       'Feedbackdt_statmap', 'Info_statmap', 'Infodt_statmap', 'Opt1_statmap',\n",
       "       'Opt1dt_statmap', 'Opt1xWTP_statmap', 'Opt1xWTPdt_statmap',\n",
       "       'Opt2_statmap', 'Opt2dt_statmap', 'Opt2xWTP_statmap',\n",
       "       'Opt2xWTPdt_statmap'],\n",
       "      dtype='object')"
      ]
     },
     "execution_count": 8,
     "metadata": {},
     "output_type": "execute_result"
    }
   ],
   "source": [
    "tmaps_df.columns"
   ]
  },
  {
   "cell_type": "markdown",
   "metadata": {},
   "source": [
    "# Look at button press"
   ]
  },
  {
   "cell_type": "code",
   "execution_count": 9,
   "metadata": {},
   "outputs": [],
   "source": [
    "#zmaps_WTP = list(zmaps_df['Opt1xWTP_zmap']) + list(zmaps_df['Opt2xWTP_zmap'])\n",
    "zmaps_WTP = list(tmaps_df['Opt1xWTP_statmap']) + list(tmaps_df['Opt2xWTP_statmap'])\n",
    "zmaps_WTP = [image.load_img(path) for path in zmaps_WTP]"
   ]
  },
  {
   "cell_type": "code",
   "execution_count": 10,
   "metadata": {},
   "outputs": [
    {
     "data": {
      "text/plain": [
       "<Axes: label='conditions', ylabel='scan number'>"
      ]
     },
     "execution_count": 10,
     "metadata": {},
     "output_type": "execute_result"
    },
    {
     "data": {
      "image/png": "[encoded data removed]",
      "text/plain": [
       "<Figure size 146x532 with 1 Axes>"
      ]
     },
     "metadata": {},
     "output_type": "display_data"
    }
   ],
   "source": [
    "X = pd.DataFrame({\n",
    "    'wtp_opt1': [1] * n_subs + [0] * n_subs,\n",
    "    'wtp_opt2': [0] * n_subs + [1] * n_subs\n",
    "})\n",
    "#sub_effects = np.vstack((np.eye(n_subs),np.eye(n_subs)))\n",
    "#X = pd.concat([X, pd.DataFrame(sub_effects, columns=sub_ids)], axis=1)\n",
    "plot_design_matrix(X, rescale=False)"
   ]
  },
  {
   "cell_type": "code",
   "execution_count": 11,
   "metadata": {},
   "outputs": [],
   "source": [
    "second_level_model_sc = SecondLevelModel().fit(zmaps_WTP, design_matrix=X)\n",
    "\n",
    "#contrast_vector = np.array([0.5, 0.5] + [0] * len(sub_ids))\n",
    "contrast_vector = np.array([0.5, 0.5])\n",
    "\n",
    "WTP_WB_zmap = second_level_model_sc.compute_contrast(contrast_vector, output_type='stat')"
   ]
  },
  {
   "cell_type": "code",
   "execution_count": 12,
   "metadata": {},
   "outputs": [
    {
     "name": "stdout",
     "output_type": "stream",
     "text": [
      "Threshold: 3.291\n"
     ]
    }
   ],
   "source": [
    "WTP_thresholded_zmap, WTP_threshold = threshold_stats_img(WTP_WB_zmap, alpha=0.001, height_control='fpr')\n",
    "print(f\"Threshold: {WTP_threshold:.3f}\")"
   ]
  },
  {
   "cell_type": "code",
   "execution_count": 13,
   "metadata": {},
   "outputs": [
    {
     "data": {
      "text/plain": [
       "<nilearn.plotting.displays._slicers.XSlicer at 0x7aa069002020>"
      ]
     },
     "execution_count": 13,
     "metadata": {},
     "output_type": "execute_result"
    },
    {
     "data": {
      "image/png": "[encoded data removed]",
      "text/plain": [
       "<Figure size 590x230 with 4 Axes>"
      ]
     },
     "metadata": {},
     "output_type": "display_data"
    }
   ],
   "source": [
    "plot_stat_map(WTP_WB_zmap, threshold=WTP_threshold, black_bg=True, display_mode='x', cut_coords=[-4, 12],title='')"
   ]
  },
  {
   "cell_type": "code",
   "execution_count": 15,
   "metadata": {},
   "outputs": [],
   "source": [
    "WTP_WB_zmap.to_filename(os.path.join('~/data/transfer', 'WTP_WB_zmap.nii'))"
   ]
  },
  {
   "cell_type": "code",
   "execution_count": null,
   "metadata": {},
   "outputs": [],
   "source": []
  }
 ],
 "metadata": {
  "kernelspec": {
   "display_name": "neuroim",
   "language": "python",
   "name": "python3"
  },
  "language_info": {
   "codemirror_mode": {
    "name": "ipython",
    "version": 3
   },
   "file_extension": ".py",
   "mimetype": "text/x-python",
   "name": "python",
   "nbconvert_exporter": "python",
   "pygments_lexer": "ipython3",
   "version": "3.10.14"
  }
 },
 "nbformat": 4,
 "nbformat_minor": 2
}
