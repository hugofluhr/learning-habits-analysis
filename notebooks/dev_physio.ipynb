{
 "cells": [
  {
   "cell_type": "code",
   "execution_count": 1,
   "metadata": {},
   "outputs": [],
   "source": [
    "%load_ext autoreload\n",
    "%autoreload 2"
   ]
  },
  {
   "cell_type": "code",
   "execution_count": 9,
   "metadata": {},
   "outputs": [],
   "source": [
    "import sys\n",
    "import numpy as np\n",
    "import os\n",
    "from matplotlib import pyplot as plt\n",
    "\n",
    "sys.path.append('..')\n",
    "from utils.data import Subject, load_participant_list"
   ]
  },
  {
   "cell_type": "code",
   "execution_count": 3,
   "metadata": {},
   "outputs": [],
   "source": [
    "base_dir = '/Users/hugofluhr/data/LH_dev'\n",
    "bids_dir = \"/Users/hugofluhr/data/LH_dev/fmriprep-23.2.1\"\n",
    "\n",
    "sub_ids = load_participant_list(base_dir)"
   ]
  },
  {
   "cell_type": "code",
   "execution_count": 6,
   "metadata": {},
   "outputs": [],
   "source": [
    "#subjects = [Subject(base_dir, sub_id, include_modeling=True, include_imaging=True, bids_dir=bids_dir) for sub_id in sub_ids]\n",
    "subject = Subject(base_dir, '01', include_modeling=True, include_imaging=True, bids_dir=bids_dir)"
   ]
  },
  {
   "cell_type": "code",
   "execution_count": 14,
   "metadata": {},
   "outputs": [
    {
     "data": {
      "text/plain": [
       "'/Users/hugofluhr/data/LH_dev'"
      ]
     },
     "execution_count": 14,
     "metadata": {},
     "output_type": "execute_result"
    }
   ],
   "source": [
    "os.path.dirname(subject.bids_dir)"
   ]
  },
  {
   "cell_type": "code",
   "execution_count": 15,
   "metadata": {},
   "outputs": [
    {
     "data": {
      "text/plain": [
       "'/Users/hugofluhr/data/LH_dev/fmriprep-23.2.1'"
      ]
     },
     "execution_count": 15,
     "metadata": {},
     "output_type": "execute_result"
    }
   ],
   "source": [
    "bids_dir"
   ]
  },
  {
   "cell_type": "code",
   "execution_count": null,
   "metadata": {},
   "outputs": [],
   "source": [
    "def load_physio_regressors(subject, run):\n",
    "    base_dir = subject.get_base_dir()\n",
    "    f_task = 'learning' if 'learning' in run else 'test'\n",
    "    f_run = subject.runs.index(run) + 1 # neat way to get the run number\n",
    "    img_file = os.path.join(base_dir, f\"{subject.sub_id}_ses-1_task-{f_task}_run-{f_run}_space-MNI152NLin2009cAsym_desc-preproc_bold.nii.gz\")\n",
    "    if not os.path.exists(img_file):\n",
    "        raise FileNotFoundError(f\"File {img_file} not found.\")\n",
    "    return img_file\n"
   ]
  }
 ],
 "metadata": {
  "kernelspec": {
   "display_name": "neuroim",
   "language": "python",
   "name": "python3"
  },
  "language_info": {
   "codemirror_mode": {
    "name": "ipython",
    "version": 3
   },
   "file_extension": ".py",
   "mimetype": "text/x-python",
   "name": "python",
   "nbconvert_exporter": "python",
   "pygments_lexer": "ipython3",
   "version": "3.10.14"
  }
 },
 "nbformat": 4,
 "nbformat_minor": 2
}
