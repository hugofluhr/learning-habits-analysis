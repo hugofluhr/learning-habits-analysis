{
 "cells": [
  {
   "cell_type": "code",
   "execution_count": 1,
   "metadata": {},
   "outputs": [],
   "source": [
    "import sys\n",
    "import os\n",
    "import glob\n",
    "import pandas as pd\n",
    "import numpy as np\n",
    "from nilearn import image\n",
    "sys.path.append('..')\n",
    "from utils.data import load_participant_list"
   ]
  },
  {
   "cell_type": "markdown",
   "metadata": {},
   "source": [
    "# Parameters"
   ]
  },
  {
   "cell_type": "code",
   "execution_count": 2,
   "metadata": {},
   "outputs": [],
   "source": [
    "statistic = 'z_score'\n",
    "multiple_comp_corr = 'fdr'\n",
    "alpha = 0.05\n",
    "run = 'test'"
   ]
  },
  {
   "cell_type": "code",
   "execution_count": 3,
   "metadata": {},
   "outputs": [],
   "source": [
    "base_dir = '/Users/hugofluhr/data/LH_dev'\n",
    "\n",
    "dev_sub_ids = ['01', '02', '03', '04', '05', '06']\n",
    "all_sub_ids = load_participant_list(base_dir)\n",
    "\n",
    "sub_ids = dev_sub_ids"
   ]
  },
  {
   "cell_type": "markdown",
   "metadata": {},
   "source": [
    "# Load Model 1 data"
   ]
  },
  {
   "cell_type": "code",
   "execution_count": 9,
   "metadata": {},
   "outputs": [],
   "source": [
    "first_level_dir = '/Users/hugofluhr/data/LH_dev/nilearn/first_level_scrubbed_demeaned_basic_motion'\n",
    "\n",
    "contrast_modulator_RL_paths = [\n",
    "    glob.glob(os.path.join(first_level_dir, f\"sub-{sub_id}_run-{run}_model_rl*_z_map.nii.gz\"))[0]\n",
    "    for sub_id in sub_ids\n",
    "]\n",
    "contrast_modulator_CK_paths = [\n",
    "    glob.glob(os.path.join(first_level_dir, f\"sub-{sub_id}_run-{run}_model_ck*_z_map.nii.gz\"))[0]\n",
    "    for sub_id in sub_ids\n",
    "]\n",
    "\n",
    "contrast_modulator_RL_paths.sort()\n",
    "contrast_modulator_CK_paths.sort()"
   ]
  },
  {
   "cell_type": "code",
   "execution_count": 6,
   "metadata": {},
   "outputs": [],
   "source": [
    "contrast_modulator_RL_imgs = [image.load_img(path) for path in contrast_modulator_RL_paths]\n",
    "contrast_modulator_CK_imgs = [image.load_img(path) for path in contrast_modulator_CK_paths]"
   ]
  },
  {
   "cell_type": "markdown",
   "metadata": {},
   "source": [
    "# Load Model 2 betamaps data"
   ]
  },
  {
   "cell_type": "code",
   "execution_count": 22,
   "metadata": {},
   "outputs": [],
   "source": [
    "first_level_dir = '/Users/hugofluhr/data/LH_dev/nilearn/new_first_level_scrubbed_demeaned_basic_motion_with_contrast'\n",
    "\n",
    "betamap_modulator_RL_paths_2 = [\n",
    "    glob.glob(os.path.join(first_level_dir, f\"sub-{sub_id}_run-{run}_model_rl*masked_z_map.nii.gz\"))[0]\n",
    "    for sub_id in sub_ids\n",
    "]\n",
    "betamap_modulator_CK_paths_2 = [\n",
    "    glob.glob(os.path.join(first_level_dir, f\"sub-{sub_id}_run-{run}_model_ck*masked_z_map.nii.gz\"))[0]\n",
    "    for sub_id in sub_ids\n",
    "]\n",
    "\n",
    "betamap_modulator_RL_paths_2.sort()\n",
    "betamap_modulator_CK_paths_2.sort()"
   ]
  },
  {
   "cell_type": "code",
   "execution_count": 24,
   "metadata": {},
   "outputs": [],
   "source": [
    "betamap_modulator_RL_imgs_2 = [image.load_img(path) for path in betamap_modulator_RL_paths_2]\n",
    "betamap_modulator_CK_imgs_2 = [image.load_img(path) for path in betamap_modulator_CK_paths_2]"
   ]
  },
  {
   "cell_type": "markdown",
   "metadata": {},
   "source": [
    "# Compare \n",
    "### Model 1 \"betamaps\" with Model 2 betamaps"
   ]
  },
  {
   "cell_type": "code",
   "execution_count": 34,
   "metadata": {},
   "outputs": [
    {
     "data": {
      "text/plain": [
       "array([[1.        , 0.53251156],\n",
       "       [0.53251156, 1.        ]])"
      ]
     },
     "execution_count": 34,
     "metadata": {},
     "output_type": "execute_result"
    }
   ],
   "source": [
    "i = 5\n",
    "np.corrcoef(contrast_modulator_CK_imgs[i].get_fdata().flatten(), betamap_modulator_CK_imgs_2[i].get_fdata().flatten())"
   ]
  },
  {
   "cell_type": "markdown",
   "metadata": {},
   "source": [
    "### Compare RL and CK effects"
   ]
  },
  {
   "cell_type": "code",
   "execution_count": 42,
   "metadata": {},
   "outputs": [
    {
     "data": {
      "text/plain": [
       "array([[1.        , 0.69951974],\n",
       "       [0.69951974, 1.        ]])"
      ]
     },
     "execution_count": 42,
     "metadata": {},
     "output_type": "execute_result"
    }
   ],
   "source": [
    "i=2\n",
    "np.corrcoef(betamap_modulator_RL_imgs_2[i].get_fdata().flatten(), betamap_modulator_CK_imgs_2[i].get_fdata().flatten())\n"
   ]
  },
  {
   "cell_type": "markdown",
   "metadata": {},
   "source": [
    "# Load Model 2 CONTRAST data"
   ]
  },
  {
   "cell_type": "code",
   "execution_count": 16,
   "metadata": {},
   "outputs": [],
   "source": [
    "first_level_dir = '/Users/hugofluhr/data/LH_dev/nilearn/new_first_level_scrubbed_demeaned_basic_motion_with_contrast'\n",
    "\n",
    "contrast_modulator_RL_paths_2 = [\n",
    "    glob.glob(os.path.join(first_level_dir, f\"sub-{sub_id}_run-{run}_model_rl*contrast_z_map.nii.gz\"))[0]\n",
    "    for sub_id in sub_ids\n",
    "]\n",
    "contrast_modulator_CK_paths_2 = [\n",
    "    glob.glob(os.path.join(first_level_dir, f\"sub-{sub_id}_run-{run}_model_ck*contrast_z_map.nii.gz\"))[0]\n",
    "    for sub_id in sub_ids\n",
    "]\n",
    "\n",
    "contrast_modulator_RL_paths_2.sort()\n",
    "contrast_modulator_CK_paths_2.sort()"
   ]
  },
  {
   "cell_type": "code",
   "execution_count": 20,
   "metadata": {},
   "outputs": [],
   "source": [
    "contrast_modulator_RL_imgs_2 = [image.load_img(path) for path in contrast_modulator_RL_paths_2]\n",
    "contrast_modulator_CK_imgs_2 = [image.load_img(path) for path in contrast_modulator_CK_paths_2]"
   ]
  },
  {
   "cell_type": "markdown",
   "metadata": {},
   "source": [
    "# Compare \n",
    "### Model 1 \"betamaps\" with Model 2 contrasts (modulator - unmodulated)"
   ]
  },
  {
   "cell_type": "code",
   "execution_count": 21,
   "metadata": {},
   "outputs": [
    {
     "data": {
      "text/plain": [
       "array([[1., 1.],\n",
       "       [1., 1.]])"
      ]
     },
     "execution_count": 21,
     "metadata": {},
     "output_type": "execute_result"
    }
   ],
   "source": [
    "np.corrcoef(contrast_modulator_RL_imgs[0].get_fdata().flatten(), contrast_modulator_RL_imgs_2[0].get_fdata().flatten())"
   ]
  },
  {
   "cell_type": "code",
   "execution_count": null,
   "metadata": {},
   "outputs": [],
   "source": []
  }
 ],
 "metadata": {
  "kernelspec": {
   "display_name": "neuroim",
   "language": "python",
   "name": "python3"
  },
  "language_info": {
   "codemirror_mode": {
    "name": "ipython",
    "version": 3
   },
   "file_extension": ".py",
   "mimetype": "text/x-python",
   "name": "python",
   "nbconvert_exporter": "python",
   "pygments_lexer": "ipython3",
   "version": "3.10.14"
  }
 },
 "nbformat": 4,
 "nbformat_minor": 2
}
