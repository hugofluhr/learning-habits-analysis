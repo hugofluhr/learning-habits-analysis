{
 "cells": [
  {
   "cell_type": "code",
   "execution_count": 2,
   "metadata": {},
   "outputs": [],
   "source": [
    "%load_ext autoreload\n",
    "%autoreload 2"
   ]
  },
  {
   "cell_type": "code",
   "execution_count": 3,
   "metadata": {},
   "outputs": [],
   "source": [
    "import sys\n",
    "import os\n",
    "import numpy as np\n",
    "import pickle\n",
    "import json\n",
    "from datetime import datetime\n",
    "import warnings\n",
    "from matplotlib import pyplot as plt\n",
    "import seaborn as sns\n",
    "from nilearn.plotting import plot_design_matrix\n",
    "from nilearn.image import load_img\n",
    "from nilearn.reporting import make_glm_report\n",
    "from nilearn import image\n",
    "from nilearn.glm.first_level import FirstLevelModel, make_first_level_design_matrix\n",
    "from nilearn.plotting import plot_design_matrix\n",
    "sys.path.append('..')\n",
    "from utils.data import Subject, load_participant_list\n",
    "from utils.analysis import compute_parametric_modulator"
   ]
  },
  {
   "cell_type": "code",
   "execution_count": 4,
   "metadata": {},
   "outputs": [],
   "source": [
    "base_dir = '/home/ubuntu/data/learning-habits'\n",
    "bids_dir = \"/home/ubuntu/data/learning-habits/bids_dataset/derivatives/fmriprep-24.0.1\"\n",
    "\n",
    "sub_ids = load_participant_list(base_dir)"
   ]
  },
  {
   "cell_type": "code",
   "execution_count": 5,
   "metadata": {},
   "outputs": [],
   "source": [
    "#subjects = [Subject(base_dir, sub_id, include_modeling=True, include_imaging=True, bids_dir=bids_dir) for sub_id in sub_ids]\n",
    "subject = Subject(base_dir, '01', include_modeling=True, include_imaging=True, bids_dir=bids_dir)"
   ]
  },
  {
   "cell_type": "code",
   "execution_count": 6,
   "metadata": {},
   "outputs": [],
   "source": [
    "model_params = {\n",
    "    'model_name': 'no_modulation',\n",
    "    'tr': 2.33384,\n",
    "    'hrf_model': 'spm',\n",
    "    'noise_model': 'ar1',\n",
    "    'smoothing_fwhm': 5,\n",
    "    'high_pass': 0.01,\n",
    "    'motion_type': 'basic',\n",
    "    'include_physio': True,\n",
    "    'brain_mask': False,\n",
    "    'mask_samples': False,\n",
    "    'demean_modulator': True\n",
    "}\n",
    "\n",
    "run = 'learning2'"
   ]
  },
  {
   "cell_type": "code",
   "execution_count": 28,
   "metadata": {},
   "outputs": [
    {
     "ename": "TypeError",
     "evalue": "Subject.load_confounds() got an unexpected keyword argument 'strategy'",
     "output_type": "error",
     "traceback": [
      "\u001b[0;31m---------------------------------------------------------------------------\u001b[0m",
      "\u001b[0;31mTypeError\u001b[0m                                 Traceback (most recent call last)",
      "Cell \u001b[0;32mIn[28], line 15\u001b[0m\n\u001b[1;32m     12\u001b[0m demean_modulator \u001b[38;5;241m=\u001b[39m model_params[\u001b[38;5;124m\"\u001b[39m\u001b[38;5;124mdemean_modulator\u001b[39m\u001b[38;5;124m\"\u001b[39m]\n\u001b[1;32m     14\u001b[0m \u001b[38;5;66;03m# Load confounds\u001b[39;00m\n\u001b[0;32m---> 15\u001b[0m confounds, sample_mask \u001b[38;5;241m=\u001b[39m \u001b[43msubject\u001b[49m\u001b[38;5;241;43m.\u001b[39;49m\u001b[43mload_confounds\u001b[49m\u001b[43m(\u001b[49m\u001b[43mrun\u001b[49m\u001b[43m,\u001b[49m\u001b[43m \u001b[49m\u001b[43mstrategy\u001b[49m\u001b[38;5;241;43m=\u001b[39;49m\u001b[43m(\u001b[49m\u001b[38;5;124;43m'\u001b[39;49m\u001b[38;5;124;43mmotion\u001b[39;49m\u001b[38;5;124;43m'\u001b[39;49m\u001b[43m,\u001b[49m\u001b[38;5;124;43m'\u001b[39;49m\u001b[38;5;124;43mhigh_pass\u001b[39;49m\u001b[38;5;124;43m'\u001b[39;49m\u001b[43m,\u001b[49m\u001b[38;5;124;43m'\u001b[39;49m\u001b[38;5;124;43mwm_csf\u001b[39;49m\u001b[38;5;124;43m'\u001b[39;49m\u001b[43m,\u001b[49m\n\u001b[1;32m     16\u001b[0m \u001b[43m                                                               \u001b[49m\u001b[38;5;124;43m'\u001b[39;49m\u001b[38;5;124;43mscrub\u001b[39;49m\u001b[38;5;124;43m'\u001b[39;49m\u001b[43m)\u001b[49m\u001b[43m,\u001b[49m\n\u001b[1;32m     17\u001b[0m \u001b[43m                                                \u001b[49m\u001b[43mscrub\u001b[49m\u001b[38;5;241;43m=\u001b[39;49m\u001b[38;5;241;43m0\u001b[39;49m\u001b[43m,\u001b[49m\n\u001b[1;32m     18\u001b[0m \u001b[43m                                                \u001b[49m\u001b[43mfd_threshold\u001b[49m\u001b[38;5;241;43m=\u001b[39;49m\u001b[38;5;241;43m.5\u001b[39;49m\u001b[43m,\u001b[49m\n\u001b[1;32m     19\u001b[0m \u001b[43m                                                \u001b[49m\u001b[43mstd_dvars_threshold\u001b[49m\u001b[38;5;241;43m=\u001b[39;49m\u001b[38;5;241;43m2.5\u001b[39;49m\u001b[43m)\u001b[49m \u001b[38;5;66;03m# type: ignore\u001b[39;00m\n\u001b[1;32m     20\u001b[0m \u001b[38;5;28;01mif\u001b[39;00m include_physio:\n\u001b[1;32m     21\u001b[0m     physio_regressors \u001b[38;5;241m=\u001b[39m subject\u001b[38;5;241m.\u001b[39mload_physio_regressors(run)\n",
      "\u001b[0;31mTypeError\u001b[0m: Subject.load_confounds() got an unexpected keyword argument 'strategy'"
     ]
    }
   ],
   "source": [
    "# Parameters\n",
    "model_name = model_params[\"model_name\"]\n",
    "tr = model_params[\"tr\"]\n",
    "hrf_model = model_params[\"hrf_model\"]\n",
    "noise_model = model_params[\"noise_model\"]\n",
    "smoothing_fwhm = model_params[\"smoothing_fwhm\"]\n",
    "high_pass = model_params[\"high_pass\"]\n",
    "motion_type = model_params[\"motion_type\"]\n",
    "include_physio = model_params[\"include_physio\"]\n",
    "brain_mask = model_params[\"brain_mask\"]\n",
    "mask_samples = model_params[\"mask_samples\"]\n",
    "demean_modulator = model_params[\"demean_modulator\"]\n",
    "\n",
    "# Load confounds\n",
    "confounds, sample_mask = subject.load_confounds(run, motion_type=motion_type)\n",
    "if include_physio:\n",
    "    physio_regressors = subject.load_physio_regressors(run)\n",
    "    confounds = confounds.join(physio_regressors)\n",
    "\n",
    "if not mask_samples:\n",
    "    sample_mask = None\n",
    "\n",
    "# Load fMRI volume\n",
    "img_path = subject.img.get(run)\n",
    "fmri_img = load_img(img_path)"
   ]
  },
  {
   "cell_type": "code",
   "execution_count": 27,
   "metadata": {},
   "outputs": [
    {
     "data": {
      "text/plain": [
       "Index(['csf', 'rot_x', 'rot_y', 'rot_z', 'trans_x', 'trans_y', 'trans_z',\n",
       "       'white_matter', 'cosine00', 'cosine01', 'cosine02', 'cosine03',\n",
       "       'cosine04', 'physio1', 'physio2', 'physio3', 'physio4', 'physio5',\n",
       "       'physio6', 'physio7', 'physio8', 'physio9', 'physio10', 'physio11',\n",
       "       'physio12', 'physio13', 'physio14', 'physio15', 'physio16', 'physio17',\n",
       "       'physio18'],\n",
       "      dtype='object')"
      ]
     },
     "execution_count": 27,
     "metadata": {},
     "output_type": "execute_result"
    }
   ],
   "source": [
    "confounds.columns"
   ]
  },
  {
   "cell_type": "code",
   "execution_count": 8,
   "metadata": {},
   "outputs": [],
   "source": [
    "# This should always be None for now\n",
    "if brain_mask:\n",
    "    brain_mask_path = subject.brain_mask.get(run)\n",
    "    brain_mask = load_img(brain_mask_path)\n",
    "else:\n",
    "    brain_mask = None\n",
    "\n",
    "n = fmri_img.shape[-1]\n",
    "frametimes = np.linspace(tr / 2., (n - .5) * tr, n)"
   ]
  },
  {
   "cell_type": "code",
   "execution_count": 9,
   "metadata": {},
   "outputs": [],
   "source": [
    "columns_event = {'first_stim_value_rl':'first_stim_presentation',\n",
    "                'first_stim_value_ck':'first_stim_presentation',\n",
    "                'first_stim':'first_stim_presentation'}\n",
    "\n",
    "# Load events\n",
    "events = getattr(subject, run).extend_events_df(columns_event)"
   ]
  },
  {
   "cell_type": "code",
   "execution_count": 10,
   "metadata": {},
   "outputs": [],
   "source": [
    "events['trial_type'] = events.apply(\n",
    "    lambda row: f\"{row['trial_type']}_{'exclude' if int(row['first_stim']) in (1, 8) else 'include'}\"\n",
    "    if row['trial_type'] == 'first_stim_presentation' else row['trial_type'],\n",
    "    axis=1\n",
    ")"
   ]
  },
  {
   "cell_type": "code",
   "execution_count": 11,
   "metadata": {},
   "outputs": [
    {
     "data": {
      "text/html": [
       "<div>\n",
       "<style scoped>\n",
       "    .dataframe tbody tr th:only-of-type {\n",
       "        vertical-align: middle;\n",
       "    }\n",
       "\n",
       "    .dataframe tbody tr th {\n",
       "        vertical-align: top;\n",
       "    }\n",
       "\n",
       "    .dataframe thead th {\n",
       "        text-align: right;\n",
       "    }\n",
       "</style>\n",
       "<table border=\"1\" class=\"dataframe\">\n",
       "  <thead>\n",
       "    <tr style=\"text-align: right;\">\n",
       "      <th></th>\n",
       "      <th>onset</th>\n",
       "      <th>duration</th>\n",
       "      <th>trial_type</th>\n",
       "      <th>trial</th>\n",
       "      <th>first_stim_value_rl</th>\n",
       "      <th>first_stim_value_ck</th>\n",
       "      <th>first_stim</th>\n",
       "    </tr>\n",
       "  </thead>\n",
       "  <tbody>\n",
       "    <tr>\n",
       "      <th>0</th>\n",
       "      <td>0.001868</td>\n",
       "      <td>0.820289</td>\n",
       "      <td>first_stim_presentation_include</td>\n",
       "      <td>1</td>\n",
       "      <td>3.988659</td>\n",
       "      <td>0.101242</td>\n",
       "      <td>7.0</td>\n",
       "    </tr>\n",
       "    <tr>\n",
       "      <th>1</th>\n",
       "      <td>0.822156</td>\n",
       "      <td>1.000000</td>\n",
       "      <td>second_stim_presentation</td>\n",
       "      <td>1</td>\n",
       "      <td>0.000000</td>\n",
       "      <td>0.000000</td>\n",
       "      <td>0.0</td>\n",
       "    </tr>\n",
       "    <tr>\n",
       "      <th>2</th>\n",
       "      <td>1.822156</td>\n",
       "      <td>1.504399</td>\n",
       "      <td>non_response_feedback</td>\n",
       "      <td>1</td>\n",
       "      <td>0.000000</td>\n",
       "      <td>0.000000</td>\n",
       "      <td>0.0</td>\n",
       "    </tr>\n",
       "    <tr>\n",
       "      <th>3</th>\n",
       "      <td>3.326556</td>\n",
       "      <td>6.266152</td>\n",
       "      <td>iti</td>\n",
       "      <td>1</td>\n",
       "      <td>0.000000</td>\n",
       "      <td>0.000000</td>\n",
       "      <td>0.0</td>\n",
       "    </tr>\n",
       "    <tr>\n",
       "      <th>4</th>\n",
       "      <td>9.592707</td>\n",
       "      <td>0.848439</td>\n",
       "      <td>first_stim_presentation_exclude</td>\n",
       "      <td>2</td>\n",
       "      <td>1.003978</td>\n",
       "      <td>0.043020</td>\n",
       "      <td>1.0</td>\n",
       "    </tr>\n",
       "    <tr>\n",
       "      <th>...</th>\n",
       "      <td>...</td>\n",
       "      <td>...</td>\n",
       "      <td>...</td>\n",
       "      <td>...</td>\n",
       "      <td>...</td>\n",
       "      <td>...</td>\n",
       "      <td>...</td>\n",
       "    </tr>\n",
       "    <tr>\n",
       "      <th>567</th>\n",
       "      <td>959.462614</td>\n",
       "      <td>0.623545</td>\n",
       "      <td>second_stim_presentation</td>\n",
       "      <td>96</td>\n",
       "      <td>0.000000</td>\n",
       "      <td>0.000000</td>\n",
       "      <td>0.0</td>\n",
       "    </tr>\n",
       "    <tr>\n",
       "      <th>568</th>\n",
       "      <td>960.086159</td>\n",
       "      <td>0.000000</td>\n",
       "      <td>response</td>\n",
       "      <td>96</td>\n",
       "      <td>0.000000</td>\n",
       "      <td>0.000000</td>\n",
       "      <td>0.0</td>\n",
       "    </tr>\n",
       "    <tr>\n",
       "      <th>569</th>\n",
       "      <td>960.087956</td>\n",
       "      <td>1.879011</td>\n",
       "      <td>purple_frame</td>\n",
       "      <td>96</td>\n",
       "      <td>0.000000</td>\n",
       "      <td>0.000000</td>\n",
       "      <td>0.0</td>\n",
       "    </tr>\n",
       "    <tr>\n",
       "      <th>570</th>\n",
       "      <td>960.589006</td>\n",
       "      <td>1.377960</td>\n",
       "      <td>points_feedback</td>\n",
       "      <td>96</td>\n",
       "      <td>0.000000</td>\n",
       "      <td>0.000000</td>\n",
       "      <td>0.0</td>\n",
       "    </tr>\n",
       "    <tr>\n",
       "      <th>571</th>\n",
       "      <td>961.966967</td>\n",
       "      <td>6.586797</td>\n",
       "      <td>iti</td>\n",
       "      <td>96</td>\n",
       "      <td>0.000000</td>\n",
       "      <td>0.000000</td>\n",
       "      <td>0.0</td>\n",
       "    </tr>\n",
       "  </tbody>\n",
       "</table>\n",
       "<p>572 rows × 7 columns</p>\n",
       "</div>"
      ],
      "text/plain": [
       "          onset  duration                       trial_type  trial  \\\n",
       "0      0.001868  0.820289  first_stim_presentation_include      1   \n",
       "1      0.822156  1.000000         second_stim_presentation      1   \n",
       "2      1.822156  1.504399            non_response_feedback      1   \n",
       "3      3.326556  6.266152                              iti      1   \n",
       "4      9.592707  0.848439  first_stim_presentation_exclude      2   \n",
       "..          ...       ...                              ...    ...   \n",
       "567  959.462614  0.623545         second_stim_presentation     96   \n",
       "568  960.086159  0.000000                         response     96   \n",
       "569  960.087956  1.879011                     purple_frame     96   \n",
       "570  960.589006  1.377960                  points_feedback     96   \n",
       "571  961.966967  6.586797                              iti     96   \n",
       "\n",
       "     first_stim_value_rl  first_stim_value_ck  first_stim  \n",
       "0               3.988659             0.101242         7.0  \n",
       "1               0.000000             0.000000         0.0  \n",
       "2               0.000000             0.000000         0.0  \n",
       "3               0.000000             0.000000         0.0  \n",
       "4               1.003978             0.043020         1.0  \n",
       "..                   ...                  ...         ...  \n",
       "567             0.000000             0.000000         0.0  \n",
       "568             0.000000             0.000000         0.0  \n",
       "569             0.000000             0.000000         0.0  \n",
       "570             0.000000             0.000000         0.0  \n",
       "571             0.000000             0.000000         0.0  \n",
       "\n",
       "[572 rows x 7 columns]"
      ]
     },
     "execution_count": 11,
     "metadata": {},
     "output_type": "execute_result"
    }
   ],
   "source": [
    "events"
   ]
  },
  {
   "cell_type": "code",
   "execution_count": 12,
   "metadata": {},
   "outputs": [],
   "source": [
    "# Ignore warnings related to null duration events and unexpected columns in events data\n",
    "warnings.filterwarnings(\"ignore\", message=\".*events with null duration.*\")\n",
    "warnings.filterwarnings(\"ignore\", message=\".*following unexpected columns in events data.*\")\n",
    "# Create design matrix\n",
    "design_matrix = make_first_level_design_matrix(frame_times=frametimes,\n",
    "                                    events=events,\n",
    "                                    hrf_model=hrf_model,\n",
    "                                    drift_model=None,\n",
    "                                    high_pass=high_pass,\n",
    "                                    add_regs=confounds)"
   ]
  },
  {
   "cell_type": "code",
   "execution_count": 13,
   "metadata": {},
   "outputs": [],
   "source": [
    "demean_modulator = 'zscore'"
   ]
  },
  {
   "cell_type": "code",
   "execution_count": 14,
   "metadata": {},
   "outputs": [],
   "source": [
    "# RL Parametric modulation\n",
    "parametric_modulator_column = 'first_stim_value_rl'\n",
    "condition = 'first_stim_presentation_include'\n",
    "reg_value = compute_parametric_modulator(events, condition, parametric_modulator_column,\n",
    "                                            frametimes, hrf_model, normalize=demean_modulator)\n",
    "design_matrix.insert(1, parametric_modulator_column, reg_value)"
   ]
  },
  {
   "cell_type": "code",
   "execution_count": 15,
   "metadata": {},
   "outputs": [],
   "source": [
    "# CK Parametric modulation\n",
    "parametric_modulator_column = 'first_stim_value_ck'\n",
    "condition = 'first_stim_presentation_include'\n",
    "reg_value = compute_parametric_modulator(events, condition, parametric_modulator_column,\n",
    "                                            frametimes, hrf_model, normalize=demean_modulator)\n",
    "design_matrix.insert(2, parametric_modulator_column, reg_value)"
   ]
  },
  {
   "cell_type": "code",
   "execution_count": 17,
   "metadata": {},
   "outputs": [],
   "source": [
    "# plt.figure(figsize=(18, 6))\n",
    "# plt.plot(design_matrix['first_stim_value_ck'][:300], label='first_stim_value_ck')\n",
    "# plt.plot(design_matrix['first_stim_value_rl'][:300], label='first_stim_value_rl')\n",
    "# plt.plot(design_matrix['first_stim_presentation_include'][:300], label='first_stim_presentation_include')\n",
    "# plt.plot(design_matrix['first_stim_presentation_exclude'][:300], label='first_stim_presentation_exclude')\n",
    "# plt.legend()\n",
    "# plt.show()"
   ]
  },
  {
   "cell_type": "code",
   "execution_count": 18,
   "metadata": {},
   "outputs": [
    {
     "data": {
      "text/plain": [
       "array([[1.        , 0.13847168],\n",
       "       [0.13847168, 1.        ]])"
      ]
     },
     "execution_count": 18,
     "metadata": {},
     "output_type": "execute_result"
    }
   ],
   "source": [
    "np.corrcoef(design_matrix['first_stim_value_ck'], design_matrix['first_stim_value_rl'])"
   ]
  },
  {
   "cell_type": "code",
   "execution_count": null,
   "metadata": {},
   "outputs": [],
   "source": [
    "# Compute the average correlation matrix\n",
    "# average_correlation_matrix = design_matrix.corr().values\n",
    "# plt.figure(figsize=(30, 28))\n",
    "# sns.heatmap(average_correlation_matrix, xticklabels=design_matrix.columns, \n",
    "#             yticklabels=design_matrix.columns, cmap='coolwarm', annot=True)\n",
    "# plt.title('Average Correlation Matrix')\n",
    "# plt.show()"
   ]
  },
  {
   "cell_type": "code",
   "execution_count": 24,
   "metadata": {},
   "outputs": [
    {
     "data": {
      "text/plain": [
       "Index(['first_stim_presentation_exclude', 'first_stim_value_rl',\n",
       "       'first_stim_value_ck', 'first_stim_presentation_include', 'iti',\n",
       "       'non_response_feedback', 'points_feedback', 'purple_frame', 'response',\n",
       "       'second_stim_presentation', 'csf', 'rot_x', 'rot_y', 'rot_z', 'trans_x',\n",
       "       'trans_y', 'trans_z', 'white_matter', 'cosine00', 'cosine01',\n",
       "       'cosine02', 'cosine03', 'cosine04', 'physio1', 'physio2', 'physio3',\n",
       "       'physio4', 'physio5', 'physio6', 'physio7', 'physio8', 'physio9',\n",
       "       'physio10', 'physio11', 'physio12', 'physio13', 'physio14', 'physio15',\n",
       "       'physio16', 'physio17', 'physio18', 'constant'],\n",
       "      dtype='object')"
      ]
     },
     "execution_count": 24,
     "metadata": {},
     "output_type": "execute_result"
    }
   ],
   "source": [
    "design_matrix.columns"
   ]
  },
  {
   "cell_type": "code",
   "execution_count": 25,
   "metadata": {},
   "outputs": [
    {
     "ename": "AttributeError",
     "evalue": "'DataFrame' object has no attribute 'colinearity'",
     "output_type": "error",
     "traceback": [
      "\u001b[0;31m---------------------------------------------------------------------------\u001b[0m",
      "\u001b[0;31mAttributeError\u001b[0m                            Traceback (most recent call last)",
      "\u001b[0;32m/tmp/ipykernel_647763/1749691614.py\u001b[0m in \u001b[0;36m?\u001b[0;34m()\u001b[0m\n\u001b[0;32m----> 1\u001b[0;31m \u001b[0mdesign_matrix\u001b[0m\u001b[0;34m.\u001b[0m\u001b[0mcolinearity\u001b[0m\u001b[0;34m(\u001b[0m\u001b[0;34m)\u001b[0m\u001b[0;34m\u001b[0m\u001b[0;34m\u001b[0m\u001b[0m\n\u001b[0m",
      "\u001b[0;32m~/miniforge3/envs/neuroim/lib/python3.10/site-packages/pandas/core/generic.py\u001b[0m in \u001b[0;36m?\u001b[0;34m(self, name)\u001b[0m\n\u001b[1;32m   6295\u001b[0m             \u001b[0;32mand\u001b[0m \u001b[0mname\u001b[0m \u001b[0;32mnot\u001b[0m \u001b[0;32min\u001b[0m \u001b[0mself\u001b[0m\u001b[0;34m.\u001b[0m\u001b[0m_accessors\u001b[0m\u001b[0;34m\u001b[0m\u001b[0;34m\u001b[0m\u001b[0m\n\u001b[1;32m   6296\u001b[0m             \u001b[0;32mand\u001b[0m \u001b[0mself\u001b[0m\u001b[0;34m.\u001b[0m\u001b[0m_info_axis\u001b[0m\u001b[0;34m.\u001b[0m\u001b[0m_can_hold_identifiers_and_holds_name\u001b[0m\u001b[0;34m(\u001b[0m\u001b[0mname\u001b[0m\u001b[0;34m)\u001b[0m\u001b[0;34m\u001b[0m\u001b[0;34m\u001b[0m\u001b[0m\n\u001b[1;32m   6297\u001b[0m         ):\n\u001b[1;32m   6298\u001b[0m             \u001b[0;32mreturn\u001b[0m \u001b[0mself\u001b[0m\u001b[0;34m[\u001b[0m\u001b[0mname\u001b[0m\u001b[0;34m]\u001b[0m\u001b[0;34m\u001b[0m\u001b[0;34m\u001b[0m\u001b[0m\n\u001b[0;32m-> 6299\u001b[0;31m         \u001b[0;32mreturn\u001b[0m \u001b[0mobject\u001b[0m\u001b[0;34m.\u001b[0m\u001b[0m__getattribute__\u001b[0m\u001b[0;34m(\u001b[0m\u001b[0mself\u001b[0m\u001b[0;34m,\u001b[0m \u001b[0mname\u001b[0m\u001b[0;34m)\u001b[0m\u001b[0;34m\u001b[0m\u001b[0;34m\u001b[0m\u001b[0m\n\u001b[0m",
      "\u001b[0;31mAttributeError\u001b[0m: 'DataFrame' object has no attribute 'colinearity'"
     ]
    }
   ],
   "source": [
    "design_matrix.colinearity()"
   ]
  },
  {
   "cell_type": "code",
   "execution_count": null,
   "metadata": {},
   "outputs": [],
   "source": []
  }
 ],
 "metadata": {
  "kernelspec": {
   "display_name": "neuroim",
   "language": "python",
   "name": "python3"
  },
  "language_info": {
   "codemirror_mode": {
    "name": "ipython",
    "version": 3
   },
   "file_extension": ".py",
   "mimetype": "text/x-python",
   "name": "python",
   "nbconvert_exporter": "python",
   "pygments_lexer": "ipython3",
   "version": "3.10.14"
  }
 },
 "nbformat": 4,
 "nbformat_minor": 2
}
