{
 "cells": [
  {
   "cell_type": "code",
   "execution_count": 1,
   "metadata": {},
   "outputs": [],
   "source": [
    "%load_ext autoreload\n",
    "%autoreload 2"
   ]
  },
  {
   "cell_type": "code",
   "execution_count": 55,
   "metadata": {},
   "outputs": [],
   "source": [
    "import sys\n",
    "import os\n",
    "import numpy as np\n",
    "import pickle\n",
    "import json\n",
    "import pandas as pd\n",
    "from datetime import datetime\n",
    "import warnings\n",
    "from matplotlib import pyplot as plt\n",
    "import seaborn as sns\n",
    "from nilearn.plotting import plot_design_matrix\n",
    "from nilearn.image import load_img\n",
    "from nilearn.reporting import make_glm_report\n",
    "from nilearn import image\n",
    "from nilearn.glm.first_level import FirstLevelModel, make_first_level_design_matrix\n",
    "from nilearn.plotting import plot_design_matrix\n",
    "sys.path.append('..')\n",
    "from utils.data import Subject, load_participant_list, create_dummy_regressors\n",
    "from utils.analysis import compute_parametric_modulator"
   ]
  },
  {
   "cell_type": "code",
   "execution_count": 56,
   "metadata": {},
   "outputs": [],
   "source": [
    "base_dir = '/home/ubuntu/data/learning-habits'\n",
    "bids_dir = \"/home/ubuntu/data/learning-habits/bids_dataset/derivatives/fmriprep-24.0.1\"\n",
    "\n",
    "sub_ids = load_participant_list(base_dir)"
   ]
  },
  {
   "cell_type": "code",
   "execution_count": 57,
   "metadata": {},
   "outputs": [],
   "source": [
    "#subjects = [Subject(base_dir, sub_id, include_modeling=True, include_imaging=True, bids_dir=bids_dir) for sub_id in sub_ids]\n",
    "subject = Subject(base_dir, '02', include_modeling=True, include_imaging=True, bids_dir=bids_dir)"
   ]
  },
  {
   "cell_type": "code",
   "execution_count": 58,
   "metadata": {},
   "outputs": [],
   "source": [
    "model_params = {\n",
    "    'model_name': 'werkplaats',\n",
    "    'tr': 2.33384,\n",
    "    'hrf_model': 'spm',\n",
    "    'noise_model': 'ar1',\n",
    "    'smoothing_fwhm': 5,\n",
    "    'high_pass': 0.01,\n",
    "    'motion_type': 'basic',\n",
    "    'fd_thresh': 0.5,\n",
    "    'std_dvars_thresh': 2.5,\n",
    "    'scrub': 'dummies',\n",
    "    'modulators': 'both',\n",
    "    'exclude_stimuli': True,\n",
    "    'include_physio': True,\n",
    "    'brain_mask': True,\n",
    "    'modulator_normalization': 'zscore'\n",
    "}\n",
    "\n",
    "run = 'learning1'"
   ]
  },
  {
   "cell_type": "code",
   "execution_count": 59,
   "metadata": {},
   "outputs": [],
   "source": [
    "# Parameters\n",
    "model_name = model_params[\"model_name\"]\n",
    "tr = model_params[\"tr\"]\n",
    "hrf_model = model_params[\"hrf_model\"]\n",
    "noise_model = model_params[\"noise_model\"]\n",
    "smoothing_fwhm = model_params[\"smoothing_fwhm\"]\n",
    "high_pass = model_params[\"high_pass\"]\n",
    "include_physio = model_params[\"include_physio\"]\n",
    "brain_mask = model_params[\"brain_mask\"]\n",
    "modulator_normalization = model_params[\"modulator_normalization\"]\n",
    "modulators = model_params[\"modulators\"]\n",
    "exclude_stimuli = model_params[\"exclude_stimuli\"]\n",
    "motion_type = model_params[\"motion_type\"]\n",
    "fd_thresh = model_params[\"fd_thresh\"]\n",
    "std_dvars_thresh = model_params[\"std_dvars_thresh\"]\n",
    "scrub = model_params[\"scrub\"]"
   ]
  },
  {
   "cell_type": "code",
   "execution_count": 60,
   "metadata": {},
   "outputs": [],
   "source": [
    "# Load confounds\n",
    "confounds, sample_mask = subject.load_confounds(run, motion_type=motion_type,\n",
    "                                                fd_thresh=fd_thresh, std_dvars_thresh=std_dvars_thresh,\n",
    "                                                scrub=(0 if scrub == 'dummies' else scrub))\n",
    "if include_physio:\n",
    "    physio_regressors = subject.load_physio_regressors(run)\n",
    "    confounds = confounds.join(physio_regressors)"
   ]
  },
  {
   "cell_type": "code",
   "execution_count": 61,
   "metadata": {},
   "outputs": [],
   "source": [
    "if scrub == 'dummies':\n",
    "    dummies = create_dummy_regressors(sample_mask, len(confounds))\n",
    "    confounds = pd.concat([confounds, dummies], axis=1)"
   ]
  },
  {
   "cell_type": "code",
   "execution_count": 62,
   "metadata": {},
   "outputs": [],
   "source": [
    "# Load fMRI volume\n",
    "img_path = subject.img.get(run)\n",
    "fmri_img = load_img(img_path)"
   ]
  },
  {
   "cell_type": "code",
   "execution_count": 64,
   "metadata": {},
   "outputs": [],
   "source": [
    "if brain_mask:\n",
    "    brain_mask_path = subject.brain_mask.get(run)\n",
    "    brain_mask = load_img(brain_mask_path)\n",
    "else:\n",
    "    brain_mask = None\n",
    "\n",
    "n = fmri_img.shape[-1]\n",
    "frametimes = np.linspace(tr / 2., (n - .5) * tr, n)"
   ]
  },
  {
   "cell_type": "code",
   "execution_count": 65,
   "metadata": {},
   "outputs": [],
   "source": [
    "if modulators == 'both':\n",
    "    columns_event = {'first_stim_value_rl':'first_stim_presentation',\n",
    "                    'first_stim_value_ck':'first_stim_presentation',\n",
    "                    'first_stim':'first_stim_presentation'}\n",
    "    # Load events\n",
    "    events = getattr(subject, run).extend_events_df(columns_event)\n",
    "elif modulators == 'none':\n",
    "    events = getattr(subject, run).events\n",
    "else:\n",
    "    raise NotImplementedError(\"Modulator type not implemented\")"
   ]
  },
  {
   "cell_type": "code",
   "execution_count": 66,
   "metadata": {},
   "outputs": [],
   "source": [
    "if exclude_stimuli:\n",
    "    events['trial_type'] = events.apply(\n",
    "        lambda row: f\"{row['trial_type']}_{'exclude' if int(row['first_stim']) in (1, 8) else 'include'}\"\n",
    "        if row['trial_type'] == 'first_stim_presentation' else row['trial_type'],\n",
    "        axis=1\n",
    "    ) "
   ]
  },
  {
   "cell_type": "code",
   "execution_count": 67,
   "metadata": {},
   "outputs": [],
   "source": [
    "# Ignore warnings related to null duration events and unexpected columns in events data\n",
    "warnings.filterwarnings(\"ignore\", message=\".*events with null duration.*\")\n",
    "warnings.filterwarnings(\"ignore\", message=\".*following unexpected columns in events data.*\")\n",
    "# Create design matrix\n",
    "design_matrix = make_first_level_design_matrix(frame_times=frametimes,\n",
    "                                    events=events,\n",
    "                                    hrf_model=hrf_model,\n",
    "                                    drift_model=None,\n",
    "                                    high_pass=high_pass,\n",
    "                                    add_regs=confounds)"
   ]
  },
  {
   "cell_type": "code",
   "execution_count": 68,
   "metadata": {},
   "outputs": [],
   "source": [
    "if modulators == 'both':\n",
    "    # RL Parametric modulation\n",
    "    parametric_modulator_column = 'first_stim_value_rl'\n",
    "    condition = 'first_stim_presentation_include' if exclude_stimuli else 'first_stim_presentation'\n",
    "    reg_value = compute_parametric_modulator(events, condition, parametric_modulator_column,\n",
    "                                                frametimes, hrf_model, normalize=modulator_normalization)\n",
    "    design_matrix.insert(1, parametric_modulator_column, reg_value)\n",
    "\n",
    "    # CK Parametric modulation\n",
    "    parametric_modulator_column = 'first_stim_value_ck'\n",
    "    condition = 'first_stim_presentation_include' if exclude_stimuli else 'first_stim_presentation'\n",
    "    reg_value = compute_parametric_modulator(events, condition, parametric_modulator_column,\n",
    "                                                frametimes, hrf_model, normalize=modulator_normalization)\n",
    "    design_matrix.insert(2, parametric_modulator_column, reg_value)"
   ]
  },
  {
   "cell_type": "code",
   "execution_count": 69,
   "metadata": {},
   "outputs": [
    {
     "data": {
      "text/plain": [
       "Index(['first_stim_presentation_exclude', 'first_stim_value_rl',\n",
       "       'first_stim_value_ck', 'first_stim_presentation_include', 'iti',\n",
       "       'points_feedback', 'purple_frame', 'response',\n",
       "       'second_stim_presentation', 'csf', 'rot_x', 'rot_y', 'rot_z', 'trans_x',\n",
       "       'trans_y', 'trans_z', 'white_matter', 'cosine00', 'cosine01',\n",
       "       'cosine02', 'cosine03', 'cosine04', 'physio1', 'physio2', 'physio3',\n",
       "       'physio4', 'physio5', 'physio6', 'physio7', 'physio8', 'physio9',\n",
       "       'physio10', 'physio11', 'physio12', 'physio13', 'physio14', 'physio15',\n",
       "       'physio16', 'physio17', 'physio18', 'constant'],\n",
       "      dtype='object')"
      ]
     },
     "execution_count": 69,
     "metadata": {},
     "output_type": "execute_result"
    }
   ],
   "source": [
    "design_matrix.columns"
   ]
  },
  {
   "cell_type": "code",
   "execution_count": 70,
   "metadata": {},
   "outputs": [],
   "source": [
    "# Compute the average correlation matrix\n",
    "# average_correlation_matrix = design_matrix.corr().values\n",
    "# plt.figure(figsize=(30, 28))\n",
    "# sns.heatmap(average_correlation_matrix, xticklabels=design_matrix.columns, \n",
    "#             yticklabels=design_matrix.columns, cmap='coolwarm', annot=True)\n",
    "# plt.title('Average Correlation Matrix')\n",
    "# plt.show()"
   ]
  },
  {
   "cell_type": "code",
   "execution_count": null,
   "metadata": {},
   "outputs": [],
   "source": []
  }
 ],
 "metadata": {
  "kernelspec": {
   "display_name": "neuroim",
   "language": "python",
   "name": "python3"
  },
  "language_info": {
   "codemirror_mode": {
    "name": "ipython",
    "version": 3
   },
   "file_extension": ".py",
   "mimetype": "text/x-python",
   "name": "python",
   "nbconvert_exporter": "python",
   "pygments_lexer": "ipython3",
   "version": "3.10.14"
  }
 },
 "nbformat": 4,
 "nbformat_minor": 2
}
