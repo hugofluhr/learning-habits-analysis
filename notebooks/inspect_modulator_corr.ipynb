{
 "cells": [
  {
   "cell_type": "code",
   "execution_count": 1,
   "metadata": {},
   "outputs": [],
   "source": [
    "import sys\n",
    "import numpy as np\n",
    "from matplotlib import pyplot as plt\n",
    "import seaborn as sns\n",
    "from nilearn.image import load_img\n",
    "sys.path.append('..')\n",
    "from utils.data import Subject, load_participant_list\n",
    "from utils.analysis import compute_parametric_modulator"
   ]
  },
  {
   "cell_type": "code",
   "execution_count": 2,
   "metadata": {},
   "outputs": [],
   "source": [
    "base_dir = '/home/ubuntu/data/learning-habits'\n",
    "bids_dir = \"/home/ubuntu/data/learning-habits/bids_dataset/derivatives/fmriprep-24.0.1\"\n",
    "\n",
    "all_sub_ids = load_participant_list(base_dir)\n",
    "\n",
    "sub_ids = all_sub_ids"
   ]
  },
  {
   "cell_type": "code",
   "execution_count": 3,
   "metadata": {},
   "outputs": [
    {
     "name": "stderr",
     "output_type": "stream",
     "text": [
      "/home/ubuntu/repos/learning-habits-analysis/notebooks/../utils/data.py:165: UserWarning: Last 1 trial(s) of block had no response, filling with 0\n",
      "  warnings.warn(f\"Last {n_missing} trial(s) of block had no response, filling with 0\")\n"
     ]
    }
   ],
   "source": [
    "subjects = [Subject(base_dir, sub_id, include_modeling=True, include_imaging=True, bids_dir=bids_dir) for sub_id in sub_ids]"
   ]
  },
  {
   "cell_type": "code",
   "execution_count": 4,
   "metadata": {},
   "outputs": [],
   "source": [
    "columns_event = {'first_stim_value_rl':'first_stim_presentation',\n",
    "                'first_stim_value_ck':'first_stim_presentation',\n",
    "                'first_stim':'first_stim_presentation'}"
   ]
  },
  {
   "cell_type": "code",
   "execution_count": 7,
   "metadata": {},
   "outputs": [],
   "source": [
    "exclude_stimuli = False\n",
    "hrf_model = 'spm'\n",
    "modulator_normalization = 'zscore'\n",
    "tr = 2.33384"
   ]
  },
  {
   "cell_type": "code",
   "execution_count": 13,
   "metadata": {},
   "outputs": [],
   "source": [
    "img_path = subjects[0].img.get('learning1')\n",
    "fmri_img = load_img(img_path)\n",
    "\n",
    "n_learning = fmri_img.shape[-1]\n",
    "\n",
    "img_path = subjects[0].img.get('test')\n",
    "fmri_img = load_img(img_path)\n",
    "\n",
    "n_test = fmri_img.shape[-1]\n",
    "\n",
    "frametimes_learning = np.linspace(tr / 2., (n_learning - .5) * tr, n_learning)\n",
    "frametimes_test = np.linspace(tr / 2., (n_test - .5) * tr, n_test)"
   ]
  },
  {
   "cell_type": "code",
   "execution_count": 17,
   "metadata": {},
   "outputs": [],
   "source": [
    "events = []\n",
    "modulators = []\n",
    "for sub in subjects:\n",
    "    for run in sub.runs:\n",
    "        ev = getattr(sub, run).extend_events_df(columns_event)\n",
    "        if exclude_stimuli:\n",
    "            ev['trial_type'] = ev.apply(\n",
    "                                        lambda row: f\"{row['trial_type']}_{'exclude' if int(row['first_stim']) in (1, 8) else 'include'}\"\n",
    "                                        if row['trial_type'] == 'first_stim_presentation' else row['trial_type'],\n",
    "                                        axis=1\n",
    "                                        )\n",
    "        events.append(ev)\n",
    "\n",
    "        frametimes = frametimes_learning if 'learning' in run else frametimes_test\n",
    "        # RL\n",
    "        parametric_modulator_column = 'first_stim_value_rl'\n",
    "        condition = 'first_stim_presentation_include' if exclude_stimuli else 'first_stim_presentation'\n",
    "        rl_modulation = compute_parametric_modulator(ev, condition, parametric_modulator_column,\n",
    "                                                    frametimes, hrf_model, normalize=modulator_normalization)\n",
    "        \n",
    "        # CK\n",
    "        parametric_modulator_column = 'first_stim_value_ck'\n",
    "        ck_modulation = compute_parametric_modulator(ev, condition, parametric_modulator_column,\n",
    "                                                    frametimes, hrf_model, normalize=modulator_normalization)\n",
    "        \n",
    "        modulators.append((rl_modulation, ck_modulation))\n"
   ]
  },
  {
   "cell_type": "code",
   "execution_count": 20,
   "metadata": {},
   "outputs": [],
   "source": [
    "corr = []\n",
    "for i, (rl_mod, ck_mod) in enumerate(modulators):\n",
    "    corr.append(np.corrcoef(rl_mod.T, ck_mod.T)[0, 1])"
   ]
  },
  {
   "cell_type": "code",
   "execution_count": 21,
   "metadata": {},
   "outputs": [
    {
     "data": {
      "image/png": "[encoded data removed]",
      "text/plain": [
       "<Figure size 640x480 with 1 Axes>"
      ]
     },
     "metadata": {},
     "output_type": "display_data"
    }
   ],
   "source": [
    "plt.hist(corr);"
   ]
  },
  {
   "cell_type": "code",
   "execution_count": null,
   "metadata": {},
   "outputs": [],
   "source": []
  }
 ],
 "metadata": {
  "kernelspec": {
   "display_name": "neuroim",
   "language": "python",
   "name": "python3"
  },
  "language_info": {
   "codemirror_mode": {
    "name": "ipython",
    "version": 3
   },
   "file_extension": ".py",
   "mimetype": "text/x-python",
   "name": "python",
   "nbconvert_exporter": "python",
   "pygments_lexer": "ipython3",
   "version": "3.10.14"
  }
 },
 "nbformat": 4,
 "nbformat_minor": 2
}
