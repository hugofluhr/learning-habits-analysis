{
 "cells": [
  {
   "cell_type": "code",
   "execution_count": 2,
   "metadata": {},
   "outputs": [],
   "source": [
    "import sys\n",
    "import numpy as np\n",
    "from matplotlib import pyplot as plt\n",
    "from joblib import Parallel, delayed\n",
    "import seaborn as sns\n",
    "import warnings\n",
    "from nilearn import image\n",
    "from nilearn.interfaces.fmriprep import load_confounds\n",
    "sys.path.append('..')\n",
    "from utils.data import Subject, load_participant_list"
   ]
  },
  {
   "cell_type": "code",
   "execution_count": 3,
   "metadata": {},
   "outputs": [],
   "source": [
    "base_dir = '/home/ubuntu/data/learning-habits'\n",
    "bids_dir = \"/home/ubuntu/data/learning-habits/bids_dataset/derivatives/fmriprep-24.0.1\"\n",
    "\n",
    "all_sub_ids = load_participant_list(base_dir)\n",
    "\n",
    "sub_ids = all_sub_ids"
   ]
  },
  {
   "cell_type": "code",
   "execution_count": 5,
   "metadata": {},
   "outputs": [
    {
     "name": "stderr",
     "output_type": "stream",
     "text": [
      "/home/ubuntu/repos/learning-habits-analysis/notebooks/../utils/data.py:165: UserWarning: Last 1 trial(s) of block had no response, filling with 0\n",
      "  warnings.warn(f\"Last {n_missing} trial(s) of block had no response, filling with 0\")\n"
     ]
    }
   ],
   "source": [
    "subjects = [Subject(base_dir, sub_id, include_modeling=True, include_imaging=False, bids_dir=bids_dir) for sub_id in sub_ids]"
   ]
  },
  {
   "cell_type": "code",
   "execution_count": null,
   "metadata": {},
   "outputs": [],
   "source": [
    "columns_event = {'first_stim_value_rl':'first_stim_presentation',\n",
    "                'first_stim_value_ck':'first_stim_presentation',\n",
    "                'first_stim':'first_stim_presentation'}"
   ]
  },
  {
   "cell_type": "code",
   "execution_count": null,
   "metadata": {},
   "outputs": [],
   "source": [
    "for sub in subjects:\n",
    "    for run in sub.runs:\n",
    "        events"
   ]
  }
 ],
 "metadata": {
  "kernelspec": {
   "display_name": "neuroim",
   "language": "python",
   "name": "python3"
  },
  "language_info": {
   "codemirror_mode": {
    "name": "ipython",
    "version": 3
   },
   "file_extension": ".py",
   "mimetype": "text/x-python",
   "name": "python",
   "nbconvert_exporter": "python",
   "pygments_lexer": "ipython3",
   "version": "3.10.14"
  }
 },
 "nbformat": 4,
 "nbformat_minor": 2
}
