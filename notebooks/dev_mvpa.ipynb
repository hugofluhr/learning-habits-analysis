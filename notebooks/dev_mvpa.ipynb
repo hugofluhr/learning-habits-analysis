{
 "cells": [
  {
   "cell_type": "code",
   "execution_count": 1,
   "id": "c279d552",
   "metadata": {},
   "outputs": [],
   "source": [
    "import pandas as pd\n",
    "import os\n",
    "import sys\n",
    "from matplotlib import pyplot as plt\n",
    "\n",
    "sys.path.append('/home/ubuntu/repos/learning-habits-analysis')\n",
    "from utils.data import Subject, load_participant_list\n",
    "\n",
    "from nilearn.image import concat_imgs\n",
    "from nilearn import image\n",
    "from nilearn.masking import apply_mask\n",
    "from sklearn.model_selection import KFold\n",
    "from sklearn.linear_model import RidgeCV\n",
    "from sklearn.pipeline import Pipeline\n",
    "from sklearn.preprocessing import StandardScaler\n",
    "from sklearn.metrics import r2_score"
   ]
  },
  {
   "cell_type": "code",
   "execution_count": 2,
   "id": "e8fb3428",
   "metadata": {},
   "outputs": [],
   "source": [
    "base_dir = '/home/ubuntu/data/learning-habits'\n",
    "first_lvl_dir = '/home/ubuntu/data/learning-habits/bids_dataset/derivatives/nilearn/mvpa_firststim_LSA_20250828'"
   ]
  },
  {
   "cell_type": "code",
   "execution_count": 3,
   "id": "b9c3424a",
   "metadata": {},
   "outputs": [],
   "source": [
    "run = 'learning1'"
   ]
  },
  {
   "cell_type": "code",
   "execution_count": 4,
   "id": "623577dc",
   "metadata": {},
   "outputs": [],
   "source": [
    "sub_ids = load_participant_list(base_dir)"
   ]
  },
  {
   "cell_type": "code",
   "execution_count": 5,
   "id": "e3f6d0e8",
   "metadata": {},
   "outputs": [],
   "source": [
    "dfs = [\n",
    "  pd.read_csv(f\"{first_lvl_dir}/sub-{sub_id}/run-{run}/sub-{sub_id}_run-{run}_trial_beta_mapping.csv\")\n",
    "  for sub_id in sub_ids\n",
    "  if os.path.exists(f\"{first_lvl_dir}/sub-{sub_id}/run-{run}/sub-{sub_id}_run-{run}_trial_beta_mapping.csv\")\n",
    "]\n",
    "df = pd.concat(dfs, ignore_index=True)"
   ]
  },
  {
   "cell_type": "code",
   "execution_count": 6,
   "id": "a9876fa2",
   "metadata": {},
   "outputs": [
    {
     "data": {
      "text/html": [
       "<div>\n",
       "<style scoped>\n",
       "    .dataframe tbody tr th:only-of-type {\n",
       "        vertical-align: middle;\n",
       "    }\n",
       "\n",
       "    .dataframe tbody tr th {\n",
       "        vertical-align: top;\n",
       "    }\n",
       "\n",
       "    .dataframe thead th {\n",
       "        text-align: right;\n",
       "    }\n",
       "</style>\n",
       "<table border=\"1\" class=\"dataframe\">\n",
       "  <thead>\n",
       "    <tr style=\"text-align: right;\">\n",
       "      <th></th>\n",
       "      <th>sub_id</th>\n",
       "      <th>run</th>\n",
       "      <th>trial_index</th>\n",
       "      <th>onset</th>\n",
       "      <th>duration</th>\n",
       "      <th>first_stim</th>\n",
       "      <th>q_rl</th>\n",
       "      <th>q_ck</th>\n",
       "      <th>include_flag</th>\n",
       "      <th>beta_path</th>\n",
       "      <th>mode</th>\n",
       "    </tr>\n",
       "  </thead>\n",
       "  <tbody>\n",
       "    <tr>\n",
       "      <th>0</th>\n",
       "      <td>sub-01</td>\n",
       "      <td>learning1</td>\n",
       "      <td>1</td>\n",
       "      <td>0.009399</td>\n",
       "      <td>0.817157</td>\n",
       "      <td>7</td>\n",
       "      <td>1.830729</td>\n",
       "      <td>0.000000</td>\n",
       "      <td>True</td>\n",
       "      <td>/home/ubuntu/data/learning-habits/bids_dataset...</td>\n",
       "      <td>LSA</td>\n",
       "    </tr>\n",
       "    <tr>\n",
       "      <th>1</th>\n",
       "      <td>sub-01</td>\n",
       "      <td>learning1</td>\n",
       "      <td>2</td>\n",
       "      <td>10.010661</td>\n",
       "      <td>0.884950</td>\n",
       "      <td>4</td>\n",
       "      <td>0.517113</td>\n",
       "      <td>0.000000</td>\n",
       "      <td>True</td>\n",
       "      <td>/home/ubuntu/data/learning-habits/bids_dataset...</td>\n",
       "      <td>LSA</td>\n",
       "    </tr>\n",
       "    <tr>\n",
       "      <th>2</th>\n",
       "      <td>sub-01</td>\n",
       "      <td>learning1</td>\n",
       "      <td>3</td>\n",
       "      <td>20.403639</td>\n",
       "      <td>0.965672</td>\n",
       "      <td>1</td>\n",
       "      <td>1.605469</td>\n",
       "      <td>0.000000</td>\n",
       "      <td>True</td>\n",
       "      <td>/home/ubuntu/data/learning-habits/bids_dataset...</td>\n",
       "      <td>LSA</td>\n",
       "    </tr>\n",
       "    <tr>\n",
       "      <th>3</th>\n",
       "      <td>sub-01</td>\n",
       "      <td>learning1</td>\n",
       "      <td>4</td>\n",
       "      <td>30.675264</td>\n",
       "      <td>0.803309</td>\n",
       "      <td>8</td>\n",
       "      <td>0.714286</td>\n",
       "      <td>0.000000</td>\n",
       "      <td>True</td>\n",
       "      <td>/home/ubuntu/data/learning-habits/bids_dataset...</td>\n",
       "      <td>LSA</td>\n",
       "    </tr>\n",
       "    <tr>\n",
       "      <th>4</th>\n",
       "      <td>sub-01</td>\n",
       "      <td>learning1</td>\n",
       "      <td>5</td>\n",
       "      <td>40.081664</td>\n",
       "      <td>0.912648</td>\n",
       "      <td>4</td>\n",
       "      <td>1.024152</td>\n",
       "      <td>0.006794</td>\n",
       "      <td>True</td>\n",
       "      <td>/home/ubuntu/data/learning-habits/bids_dataset...</td>\n",
       "      <td>LSA</td>\n",
       "    </tr>\n",
       "  </tbody>\n",
       "</table>\n",
       "</div>"
      ],
      "text/plain": [
       "   sub_id        run  trial_index      onset  duration  first_stim      q_rl  \\\n",
       "0  sub-01  learning1            1   0.009399  0.817157           7  1.830729   \n",
       "1  sub-01  learning1            2  10.010661  0.884950           4  0.517113   \n",
       "2  sub-01  learning1            3  20.403639  0.965672           1  1.605469   \n",
       "3  sub-01  learning1            4  30.675264  0.803309           8  0.714286   \n",
       "4  sub-01  learning1            5  40.081664  0.912648           4  1.024152   \n",
       "\n",
       "       q_ck  include_flag                                          beta_path  \\\n",
       "0  0.000000          True  /home/ubuntu/data/learning-habits/bids_dataset...   \n",
       "1  0.000000          True  /home/ubuntu/data/learning-habits/bids_dataset...   \n",
       "2  0.000000          True  /home/ubuntu/data/learning-habits/bids_dataset...   \n",
       "3  0.000000          True  /home/ubuntu/data/learning-habits/bids_dataset...   \n",
       "4  0.006794          True  /home/ubuntu/data/learning-habits/bids_dataset...   \n",
       "\n",
       "  mode  \n",
       "0  LSA  \n",
       "1  LSA  \n",
       "2  LSA  \n",
       "3  LSA  \n",
       "4  LSA  "
      ]
     },
     "execution_count": 6,
     "metadata": {},
     "output_type": "execute_result"
    }
   ],
   "source": [
    "df.head()"
   ]
  },
  {
   "cell_type": "markdown",
   "id": "23220831",
   "metadata": {},
   "source": [
    "# Mask"
   ]
  },
  {
   "cell_type": "code",
   "execution_count": 7,
   "id": "cb9388a3",
   "metadata": {},
   "outputs": [],
   "source": [
    "vmpfc_mask_path = '/home/ubuntu/data/learning-habits/masks/vmpfc_mask.nii.gz'"
   ]
  },
  {
   "cell_type": "code",
   "execution_count": 8,
   "id": "adbddd8e",
   "metadata": {},
   "outputs": [],
   "source": [
    "vmpfc_mask = image.load_img(vmpfc_mask_path)\n",
    "sample_image = image.load_img(df.beta_path[0])\n",
    "vmpfc_mask = image.resample_to_img(vmpfc_mask, sample_image, interpolation='nearest')\n",
    "#vmpfc_masker = NiftiMasker(mask_img=vmpfc_mask)"
   ]
  },
  {
   "cell_type": "code",
   "execution_count": 9,
   "id": "60190a50",
   "metadata": {},
   "outputs": [
    {
     "data": {
      "text/plain": [
       "<nilearn.plotting.displays._slicers.OrthoSlicer at 0x7f725d676560>"
      ]
     },
     "execution_count": 9,
     "metadata": {},
     "output_type": "execute_result"
    },
    {
     "data": {
      "image/png": "[encoded data removed]",
      "text/plain": [
       "<Figure size 660x350 with 4 Axes>"
      ]
     },
     "metadata": {},
     "output_type": "display_data"
    }
   ],
   "source": [
    "from nilearn.plotting import plot_roi\n",
    "plot_roi(vmpfc_mask)"
   ]
  },
  {
   "cell_type": "markdown",
   "id": "51518995",
   "metadata": {},
   "source": [
    "# Prepare X and y"
   ]
  },
  {
   "cell_type": "code",
   "execution_count": 10,
   "id": "02e7bfb4",
   "metadata": {},
   "outputs": [],
   "source": [
    "imgs = [image.load_img(beta_path) for beta_path in df.beta_path]"
   ]
  },
  {
   "cell_type": "code",
   "execution_count": 11,
   "id": "c8289e25",
   "metadata": {},
   "outputs": [],
   "source": [
    "X = apply_mask(imgs, vmpfc_mask)"
   ]
  },
  {
   "cell_type": "code",
   "execution_count": 12,
   "id": "61ecd14d",
   "metadata": {},
   "outputs": [
    {
     "data": {
      "text/plain": [
       "Index(['sub_id', 'run', 'trial_index', 'onset', 'duration', 'first_stim',\n",
       "       'q_rl', 'q_ck', 'include_flag', 'beta_path', 'mode'],\n",
       "      dtype='object')"
      ]
     },
     "execution_count": 12,
     "metadata": {},
     "output_type": "execute_result"
    }
   ],
   "source": [
    "df.columns"
   ]
  },
  {
   "cell_type": "code",
   "execution_count": 13,
   "id": "2884a8bb",
   "metadata": {},
   "outputs": [],
   "source": [
    "y = df.q_rl\n",
    "meta = df[['sub_id', 'run', 'trial_index', 'include_flag']]"
   ]
  },
  {
   "cell_type": "code",
   "execution_count": 14,
   "id": "79640747",
   "metadata": {},
   "outputs": [],
   "source": [
    "assert len(X) == len(y)"
   ]
  },
  {
   "cell_type": "code",
   "execution_count": 15,
   "id": "998ba0d6",
   "metadata": {},
   "outputs": [],
   "source": [
    "from nilearn.decoding import DecoderRegressor\n",
    "from sklearn.model_selection import LeaveOneGroupOut"
   ]
  },
  {
   "cell_type": "code",
   "execution_count": 17,
   "id": "d3cabe92",
   "metadata": {},
   "outputs": [],
   "source": [
    "dec = DecoderRegressor(\n",
    "    estimator='ridge',           # ridge regression\n",
    "    #cv=LeaveOneGroupOut(),       # LOSO by subject\n",
    "    cv=5,\n",
    "    screening_percentile=100,    # keep all 119 voxels\n",
    "    standardize=True,            # z-score features inside CV folds\n",
    "    scoring='r2',                # report R^2\n",
    "    memory_level=2,\n",
    "    n_jobs=-1\n",
    ")"
   ]
  },
  {
   "cell_type": "code",
   "execution_count": 18,
   "id": "c75ec8f9",
   "metadata": {},
   "outputs": [
    {
     "data": {
      "text/plain": [
       "5664"
      ]
     },
     "execution_count": 18,
     "metadata": {},
     "output_type": "execute_result"
    }
   ],
   "source": [
    "len(imgs)"
   ]
  },
  {
   "cell_type": "code",
   "execution_count": 19,
   "id": "1343bc22",
   "metadata": {},
   "outputs": [
    {
     "name": "stderr",
     "output_type": "stream",
     "text": [
      "/home/ubuntu/miniforge3/envs/neuroim/lib/python3.10/site-packages/nilearn/_utils/cache_mixin.py:249: UserWarning: Caching has been enabled (memory_level = 2) but no Memory object or path has been provided (parameter memory). Caching deactivated for function _parallel_fit.\n",
      "  return cache(\n"
     ]
    }
   ],
   "source": [
    "dec.fit(imgs[:500], y[:500])"
   ]
  },
  {
   "cell_type": "code",
   "execution_count": 26,
   "id": "6df632b8",
   "metadata": {},
   "outputs": [
    {
     "data": {
      "text/plain": [
       "{'beta': [-0.07715670388875373,\n",
       "  -0.07650513027457206,\n",
       "  -0.552341274177524,\n",
       "  -0.11073720403464349,\n",
       "  0.0120308334287893]}"
      ]
     },
     "execution_count": 26,
     "metadata": {},
     "output_type": "execute_result"
    }
   ],
   "source": [
    "dec.cv_scores_"
   ]
  },
  {
   "cell_type": "code",
   "execution_count": null,
   "id": "34a6ed4c",
   "metadata": {},
   "outputs": [],
   "source": []
  }
 ],
 "metadata": {
  "kernelspec": {
   "display_name": "neuroim",
   "language": "python",
   "name": "python3"
  },
  "language_info": {
   "codemirror_mode": {
    "name": "ipython",
    "version": 3
   },
   "file_extension": ".py",
   "mimetype": "text/x-python",
   "name": "python",
   "nbconvert_exporter": "python",
   "pygments_lexer": "ipython3",
   "version": "3.10.14"
  }
 },
 "nbformat": 4,
 "nbformat_minor": 5
}
