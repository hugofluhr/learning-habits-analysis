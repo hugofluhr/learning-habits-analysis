{
 "cells": [
  {
   "cell_type": "code",
   "execution_count": 1,
   "metadata": {},
   "outputs": [],
   "source": [
    "import sys\n",
    "import os\n",
    "import pandas as pd\n",
    "import numpy as np\n",
    "from matplotlib import pyplot as plt\n",
    "from nilearn import image\n",
    "from nilearn.glm.first_level import FirstLevelModel\n",
    "from nilearn.plotting import plot_design_matrix\n",
    "from nilearn.interfaces.fmriprep import load_confounds\n",
    "from nilearn import plotting\n",
    "sys.path.append('..')\n",
    "from utils.data import Subject, load_participant_list"
   ]
  },
  {
   "cell_type": "code",
   "execution_count": 2,
   "metadata": {},
   "outputs": [],
   "source": [
    "base_dir = '/Users/hugofluhr/data/LH_dev'\n",
    "bids_dir = \"/Users/hugofluhr/data/LH_dev/fmriprep-23.2.1\"\n",
    "\n",
    "all_sub_ids = load_participant_list(base_dir)\n",
    "\n",
    "sub_ids = all_sub_ids"
   ]
  },
  {
   "cell_type": "code",
   "execution_count": 13,
   "metadata": {},
   "outputs": [
    {
     "data": {
      "text/plain": [
       "62"
      ]
     },
     "execution_count": 13,
     "metadata": {},
     "output_type": "execute_result"
    }
   ],
   "source": [
    "len(sub_ids)"
   ]
  },
  {
   "cell_type": "code",
   "execution_count": 3,
   "metadata": {},
   "outputs": [
    {
     "name": "stderr",
     "output_type": "stream",
     "text": [
      "/Users/hugofluhr/phd_local/repositories/RewardPairsTask_Analysis/notebooks/../utils/data.py:166: UserWarning: Last 1 trial(s) of block had no response, filling with 0\n"
     ]
    }
   ],
   "source": [
    "subjects = [Subject(base_dir, sub_id, include_modeling=True, include_imaging=True, bids_dir=bids_dir) for sub_id in sub_ids]"
   ]
  },
  {
   "cell_type": "code",
   "execution_count": 4,
   "metadata": {},
   "outputs": [],
   "source": [
    "# get the reference images to know the shape of the data\n",
    "N_learning = image.load_img(subjects[0].img.get('learning1')).shape[-1]\n",
    "N_test = image.load_img(subjects[0].img.get('test')).shape[-1]"
   ]
  },
  {
   "cell_type": "code",
   "execution_count": 5,
   "metadata": {},
   "outputs": [],
   "source": [
    "all_volumes = np.zeros((len(subjects), 3))\n",
    "all_volumes[:, :2] = N_learning\n",
    "all_volumes[:, 2] = N_test"
   ]
  },
  {
   "cell_type": "code",
   "execution_count": 6,
   "metadata": {},
   "outputs": [],
   "source": [
    "valid_volumes = np.zeros((len(subjects), 3))\n",
    "\n",
    "for i, sub in enumerate(subjects):\n",
    "    for j, run in enumerate(sub.runs):\n",
    "        N_block = all_volumes[i,j]\n",
    "        img_path = sub.img.get(run)\n",
    "        _, sample_mask  = load_confounds(img_path,\n",
    "                                         strategy=('motion','high_pass','wm_csf',\n",
    "                                                   'scrub'),\n",
    "                                         scrub=0,\n",
    "                                         fd_threshold=.5,\n",
    "                                         std_dvars_threshold=2.5) # type: ignore\n",
    "        valid_volumes[i,j] = len(sample_mask) if sample_mask is not None else N_block"
   ]
  },
  {
   "cell_type": "code",
   "execution_count": 7,
   "metadata": {},
   "outputs": [],
   "source": [
    "scrubbed_volumes = (all_volumes - valid_volumes)/all_volumes"
   ]
  },
  {
   "cell_type": "code",
   "execution_count": 8,
   "metadata": {},
   "outputs": [
    {
     "data": {
      "text/plain": [
       "array([0.05001514, 0.06928669, 0.07145188])"
      ]
     },
     "execution_count": 8,
     "metadata": {},
     "output_type": "execute_result"
    }
   ],
   "source": [
    "scrubbed_volumes.mean(axis=0)"
   ]
  },
  {
   "cell_type": "code",
   "execution_count": 9,
   "metadata": {},
   "outputs": [
    {
     "data": {
      "text/plain": [
       "array([0.04276698, 0.05471783, 0.05322452])"
      ]
     },
     "execution_count": 9,
     "metadata": {},
     "output_type": "execute_result"
    }
   ],
   "source": [
    "scrubbed_volumes.std(axis=0)"
   ]
  },
  {
   "cell_type": "code",
   "execution_count": 10,
   "metadata": {},
   "outputs": [
    {
     "data": {
      "image/png": "[encoded data removed]",
      "text/plain": [
       "<Figure size 1500x500 with 3 Axes>"
      ]
     },
     "metadata": {},
     "output_type": "display_data"
    }
   ],
   "source": [
    "fig, axes = plt.subplots(1, 3, figsize=(15, 5))\n",
    "\n",
    "axes[0].hist(scrubbed_volumes[:, 0], bins=10, label='learning1')\n",
    "axes[0].set_title('Learning1')\n",
    "axes[0].set_xlabel('Fraction of scrubbed Volumes')\n",
    "axes[0].set_ylabel('Count')\n",
    "\n",
    "axes[1].hist(scrubbed_volumes[:, 1], bins=10, label='learning2')\n",
    "axes[1].set_title('Learning2')\n",
    "axes[1].set_xlabel('Fraction of scrubbed Volumes')\n",
    "axes[1].set_ylabel('Count')\n",
    "\n",
    "axes[2].hist(scrubbed_volumes[:, 2], bins=10, label='test')\n",
    "axes[2].set_title('Test')\n",
    "axes[2].set_xlabel('Fraction of scrubbed Volumes')\n",
    "axes[2].set_ylabel('Count')\n",
    "\n",
    "plt.tight_layout()\n",
    "plt.show()"
   ]
  },
  {
   "cell_type": "code",
   "execution_count": 11,
   "metadata": {},
   "outputs": [],
   "source": [
    "# exclusion threshold\n",
    "max_scrub = 0.25"
   ]
  },
  {
   "cell_type": "code",
   "execution_count": 12,
   "metadata": {},
   "outputs": [
    {
     "name": "stdout",
     "output_type": "stream",
     "text": [
      "Run 0: 0 subjects with > 0.25 scrubbed volumes\n",
      "Subject IDs: []\n",
      "Run 1: 0 subjects with > 0.25 scrubbed volumes\n",
      "Subject IDs: []\n",
      "Run 2: 0 subjects with > 0.25 scrubbed volumes\n",
      "Subject IDs: []\n"
     ]
    }
   ],
   "source": [
    "for run in range(3):\n",
    "    subject_ids = [sub_ids[i] for i in range(len(sub_ids)) if scrubbed_volumes[i, run] > max_scrub]\n",
    "    print(f'Run {run}: {len(subject_ids)} subjects with > {max_scrub} scrubbed volumes')\n",
    "    print(f'Subject IDs: {subject_ids}')\n"
   ]
  },
  {
   "cell_type": "code",
   "execution_count": null,
   "metadata": {},
   "outputs": [],
   "source": []
  },
  {
   "cell_type": "code",
   "execution_count": null,
   "metadata": {},
   "outputs": [],
   "source": []
  },
  {
   "cell_type": "code",
   "execution_count": null,
   "metadata": {},
   "outputs": [],
   "source": []
  }
 ],
 "metadata": {
  "kernelspec": {
   "display_name": "neuroim",
   "language": "python",
   "name": "python3"
  },
  "language_info": {
   "codemirror_mode": {
    "name": "ipython",
    "version": 3
   },
   "file_extension": ".py",
   "mimetype": "text/x-python",
   "name": "python",
   "nbconvert_exporter": "python",
   "pygments_lexer": "ipython3",
   "version": "3.10.14"
  }
 },
 "nbformat": 4,
 "nbformat_minor": 2
}
