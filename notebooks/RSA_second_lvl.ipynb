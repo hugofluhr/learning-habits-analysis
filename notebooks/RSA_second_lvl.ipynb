{
 "cells": [
  {
   "cell_type": "code",
   "execution_count": 1,
   "metadata": {},
   "outputs": [],
   "source": [
    "%load_ext autoreload\n",
    "%autoreload 2"
   ]
  },
  {
   "cell_type": "code",
   "execution_count": 2,
   "metadata": {},
   "outputs": [],
   "source": [
    "import sys\n",
    "import os\n",
    "import glob\n",
    "import json\n",
    "import pandas as pd\n",
    "import numpy as np\n",
    "from nilearn import image\n",
    "from nilearn.input_data import NiftiMasker\n",
    "from nilearn.glm.second_level import SecondLevelModel\n",
    "from nilearn.glm import threshold_stats_img\n",
    "from nilearn.plotting import plot_stat_map\n",
    "from nilearn.reporting import get_clusters_table\n",
    "sys.path.append('..')\n",
    "from utils.data import load_participant_list, get_betamap_paths"
   ]
  },
  {
   "cell_type": "markdown",
   "metadata": {},
   "source": [
    "# Parameters"
   ]
  },
  {
   "cell_type": "code",
   "execution_count": 3,
   "metadata": {},
   "outputs": [],
   "source": [
    "run = 'test'\n",
    "first_level_dir = '/home/ubuntu/data/learning-habits/bids_dataset/derivatives/nilearn/rsa_20250218'"
   ]
  },
  {
   "cell_type": "markdown",
   "metadata": {},
   "source": [
    "# First level parameters"
   ]
  },
  {
   "cell_type": "code",
   "execution_count": 4,
   "metadata": {},
   "outputs": [
    {
     "name": "stdout",
     "output_type": "stream",
     "text": [
      "model_name: null_durations\n",
      "tr: 2.33384\n",
      "hrf_model: spm\n",
      "noise_model: ar1\n",
      "smoothing_fwhm: 5\n",
      "high_pass: 0.01\n",
      "motion_type: basic\n",
      "fd_thresh: 0.5\n",
      "std_dvars_thresh: 2\n",
      "scrub: dummies\n",
      "include_physio: True\n",
      "brain_mask: True\n",
      "duration: iti_only\n",
      "exclusion_threshold: 0.2\n"
     ]
    }
   ],
   "source": [
    "# Find the first JSON file\n",
    "json_file_path = glob.glob(os.path.join(first_level_dir, '**', '*_params.json'), recursive=True)[0]\n",
    "\n",
    "# Load and print the JSON file contents\n",
    "with open(json_file_path, 'r') as file:\n",
    "    json_data = json.load(file)\n",
    "    for key, value in json_data.items():\n",
    "        print(f\"{key}: {value}\")\n"
   ]
  },
  {
   "cell_type": "markdown",
   "metadata": {},
   "source": [
    "# Load First level data"
   ]
  },
  {
   "cell_type": "code",
   "execution_count": 8,
   "metadata": {},
   "outputs": [],
   "source": [
    "base_dir = '/home/ubuntu/data/learning-habits'\n",
    "sub_ids = load_participant_list(base_dir)"
   ]
  },
  {
   "cell_type": "code",
   "execution_count": 9,
   "metadata": {},
   "outputs": [],
   "source": [
    "stimuli = [1, 2, 3, 4, 5, 6, 7, 8]"
   ]
  },
  {
   "cell_type": "code",
   "execution_count": 12,
   "metadata": {},
   "outputs": [
    {
     "name": "stdout",
     "output_type": "stream",
     "text": [
      "Found 57 beta maps for stimulus 1\n",
      "Found 57 beta maps for stimulus 2\n",
      "Found 57 beta maps for stimulus 3\n",
      "Found 57 beta maps for stimulus 4\n",
      "Found 57 beta maps for stimulus 5\n",
      "Found 57 beta maps for stimulus 6\n",
      "Found 57 beta maps for stimulus 7\n",
      "Found 57 beta maps for stimulus 8\n"
     ]
    }
   ],
   "source": [
    "for stim in stimuli:\n",
    "    betamap_paths, found_subs = get_betamap_paths(sub_ids, first_level_dir, run, f\"sub-{{sub_id}}_run-{{run}}_betamap_first_stim_presentation_{stim}.nii.gz\")\n",
    "    print(f\"Found {len(betamap_paths)} beta maps for stimulus {stim}\")"
   ]
  },
  {
   "cell_type": "code",
   "execution_count": null,
   "metadata": {},
   "outputs": [],
   "source": [
    "contrast_modulator_RL_imgs = [image.load_img(path) for path in contrast_modulator_RL_paths]\n",
    "contrast_modulator_CK_imgs = [image.load_img(path) for path in contrast_modulator_CK_paths]"
   ]
  },
  {
   "cell_type": "code",
   "execution_count": null,
   "metadata": {},
   "outputs": [
    {
     "name": "stdout",
     "output_type": "stream",
     "text": [
      "Found 57 RL and 57 CK betamaps\n"
     ]
    }
   ],
   "source": [
    "print(f\"Found {len(contrast_modulator_RL_imgs)} RL and {len(contrast_modulator_CK_imgs)} CK betamaps\")"
   ]
  },
  {
   "cell_type": "code",
   "execution_count": null,
   "metadata": {},
   "outputs": [],
   "source": [
    "import os\n",
    "import numpy as np\n",
    "import nibabel as nib\n",
    "import scipy.spatial.distance as sp_dist\n",
    "import matplotlib.pyplot as plt\n",
    "import seaborn as sns\n",
    "\n",
    "# Define parameters\n",
    "num_subjects = 50\n",
    "num_stimuli = 8\n",
    "data_path = \"path_to_your_betamaps\"  # Update with actual path\n",
    "\n",
    "# Initialize dictionary to store RDMs\n",
    "rdms = {}\n",
    "\n",
    "# Iterate over subjects\n",
    "for subj in range(1, num_subjects + 1):\n",
    "    subject_id = f\"sub-{subj:02d}\"  # Adjust formatting based on file naming\n",
    "    betamaps = []\n",
    "    \n",
    "    # Load betamaps for each stimulus\n",
    "    for stim in range(1, num_stimuli + 1):\n",
    "        file_path = os.path.join(data_path, subject_id, f\"stim-{stim:02d}_betamap.nii.gz\")  # Adjust naming\n",
    "        img = nib.load(file_path)\n",
    "        data = img.get_fdata()\n",
    "        betamaps.append(data.flatten())  # Flatten into a vector\n",
    "    \n",
    "    # Compute pairwise distances (e.g., correlation distance)\n",
    "    rdm = sp_dist.pdist(np.array(betamaps), metric='correlation')\n",
    "    rdm = sp_dist.squareform(rdm)  # Convert to square matrix\n",
    "    \n",
    "    rdms[subject_id] = rdm\n",
    "\n",
    "# Plot an example RDM\n",
    "example_subject = \"sub-01\"  # Change as needed\n",
    "plt.figure(figsize=(8, 6))\n",
    "sns.heatmap(rdms[example_subject], annot=False, cmap=\"viridis\", square=True)\n",
    "plt.title(f\"RDM for {example_subject}\")\n",
    "plt.xlabel(\"Stimulus\")\n",
    "plt.ylabel(\"Stimulus\")\n",
    "plt.show()"
   ]
  }
 ],
 "metadata": {
  "kernelspec": {
   "display_name": "neuroim",
   "language": "python",
   "name": "python3"
  },
  "language_info": {
   "codemirror_mode": {
    "name": "ipython",
    "version": 3
   },
   "file_extension": ".py",
   "mimetype": "text/x-python",
   "name": "python",
   "nbconvert_exporter": "python",
   "pygments_lexer": "ipython3",
   "version": "3.10.14"
  }
 },
 "nbformat": 4,
 "nbformat_minor": 2
}
