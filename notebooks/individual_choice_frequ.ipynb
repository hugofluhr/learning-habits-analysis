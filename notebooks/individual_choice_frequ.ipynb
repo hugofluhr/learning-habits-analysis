{
 "cells": [
  {
   "cell_type": "code",
   "execution_count": null,
   "metadata": {},
   "outputs": [],
   "source": [
    "%load_ext autoreload\n",
    "%autoreload 2"
   ]
  },
  {
   "cell_type": "code",
   "execution_count": null,
   "metadata": {},
   "outputs": [],
   "source": [
    "import sys\n",
    "import os\n",
    "import pandas as pd\n",
    "import numpy as np\n",
    "from matplotlib import pyplot as plt\n",
    "from nilearn import image\n",
    "from nilearn.glm.first_level import FirstLevelModel\n",
    "from nilearn.plotting import plot_design_matrix\n",
    "from nilearn import plotting\n",
    "from bids import BIDSLayout\n",
    "from bids.reports import BIDSReport\n",
    "sys.path.append('..')\n",
    "from utils.data import Subject, Block, load_participant_list"
   ]
  },
  {
   "cell_type": "code",
   "execution_count": null,
   "metadata": {},
   "outputs": [],
   "source": [
    "base_dir = '/Users/hugofluhr/data/LH_dev'\n",
    "all_sub_ids = load_participant_list(base_dir)"
   ]
  },
  {
   "cell_type": "code",
   "execution_count": null,
   "metadata": {},
   "outputs": [],
   "source": [
    "subjects = [Subject(base_dir, 'sub-'+sub_id, include_modeling=True, include_imaging=False) for sub_id in all_sub_ids]"
   ]
  },
  {
   "cell_type": "code",
   "execution_count": null,
   "metadata": {},
   "outputs": [],
   "source": [
    "sub = subjects[3]\n",
    "learning_trials = sub.trials[sub.trials['block'].isin(['learning1', 'learning2'])]\n",
    "stim2_score = len(learning_trials[learning_trials['chosen_stim'] == 5.])"
   ]
  },
  {
   "cell_type": "code",
   "execution_count": null,
   "metadata": {},
   "outputs": [],
   "source": [
    "sub.trials.groupby('block')['chosen_stim'].value_counts()"
   ]
  },
  {
   "cell_type": "code",
   "execution_count": null,
   "metadata": {},
   "outputs": [],
   "source": [
    "stim_rewards = {0: 0, 1: 1, 2: 2, 3: 2, 4: 3, 5: 3, 6: 4, 7: 4, 8: 5}\n",
    "stim_frequ = {0: 0, 1: 0, 2: -1, 3: 1, 4: -1, 5: 1, 6: -1, 7: 1, 8: 0}\n",
    "\n",
    "stimulus_counts = sub.trials.groupby('block').apply(\n",
    "    lambda x: pd.DataFrame({\n",
    "        'presented': pd.concat([x['left_stim'], x['right_stim']]).value_counts(),\n",
    "        'chosen': x['chosen_stim'].value_counts()\n",
    "    }).fillna(0).astype(int),\n",
    "    include_groups=False\n",
    ").reset_index()\n",
    "\n",
    "print(stimulus_counts)"
   ]
  },
  {
   "cell_type": "code",
   "execution_count": null,
   "metadata": {},
   "outputs": [],
   "source": [
    "same_value_trials = sub.trials[sub.trials['left_value'] == sub.trials['right_value']]\n",
    "\n",
    "stimulus_counts_test = same_value_trials.groupby('block').apply(\n",
    "    lambda x: pd.DataFrame({\n",
    "        'presented': pd.concat([x['left_stim'], x['right_stim']]).value_counts(),\n",
    "        'chosen': x['chosen_stim'].value_counts()\n",
    "    }).fillna(0).astype(int),\n",
    "    include_groups=False\n",
    ").reset_index()\n",
    "\n",
    "print(stimulus_counts_test)"
   ]
  },
  {
   "cell_type": "code",
   "execution_count": null,
   "metadata": {},
   "outputs": [],
   "source": [
    "# Filter the data for learning1 and test blocks\n",
    "learning1_counts = stimulus_counts[(stimulus_counts['block'] == 'learning1')|(stimulus_counts['block'] == 'learning2')]\n",
    "test_counts = stimulus_counts_test[stimulus_counts_test['block'] == 'test']\n",
    "\n",
    "# Create a scatter plot for each level_1 value\n",
    "levels = [2, 3, 4, 5, 6, 7]\n",
    "plt.figure(figsize=(10, 6))\n",
    "\n",
    "for level in levels:\n",
    "    x = learning1_counts[learning1_counts['level_1'] == level]['chosen']\n",
    "    y = test_counts[test_counts['level_1'] == level]['chosen']\n",
    "    plt.scatter(x, y, label=f'level_1 = {level}')\n",
    "\n",
    "plt.xlabel('Number of times chosen in learning1')\n",
    "plt.ylabel('Number of times chosen in test')\n",
    "plt.title('Scatter plot of chosen stimuli in learning1 vs test')\n",
    "plt.legend()\n",
    "plt.show()"
   ]
  },
  {
   "cell_type": "code",
   "execution_count": null,
   "metadata": {},
   "outputs": [],
   "source": []
  },
  {
   "cell_type": "code",
   "execution_count": null,
   "metadata": {},
   "outputs": [],
   "source": [
    "# I think?\n",
    "rare_stim = [2., 5., 6.]\n",
    "frequent_stim = [2, 4, 6]\n",
    "\n",
    "for sub in subjects:\n",
    "    stim1_score = sub.trials"
   ]
  }
 ],
 "metadata": {
  "kernelspec": {
   "display_name": "neuroim",
   "language": "python",
   "name": "python3"
  },
  "language_info": {
   "codemirror_mode": {
    "name": "ipython",
    "version": 3
   },
   "file_extension": ".py",
   "mimetype": "text/x-python",
   "name": "python",
   "nbconvert_exporter": "python",
   "pygments_lexer": "ipython3",
   "version": "3.10.14"
  }
 },
 "nbformat": 4,
 "nbformat_minor": 2
}
