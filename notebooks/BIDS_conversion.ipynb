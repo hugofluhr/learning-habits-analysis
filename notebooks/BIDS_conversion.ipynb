{
 "cells": [
  {
   "cell_type": "markdown",
   "metadata": {},
   "source": [
    "Notebook to inspect files to identify bids conversion issues."
   ]
  },
  {
   "cell_type": "code",
   "execution_count": 10,
   "metadata": {},
   "outputs": [],
   "source": [
    "import nilearn.image\n",
    "import numpy as np"
   ]
  },
  {
   "cell_type": "markdown",
   "metadata": {},
   "source": [
    "Dealing with:  \n",
    "```\n",
    "\t3: [WARN] Not all subjects/sessions/runs have the same scanning parameters. (code: 39 - INCONSISTENT_PARAMETERS)  \n",
    "\n",
    "\t./sub-08/ses-1/func/sub-08_ses-1_task-test_run-3_bold.nii  \n",
    "\n",
    "\t./sub-11/ses-1/func/sub-11_ses-1_task-learning_run-2_bold.nii  \n",
    "\n",
    "\t./sub-66/ses-1/func/sub-66_ses-1_task-learning_run-2_bold.nii  $\n",
    "\n",
    "```"
   ]
  },
  {
   "cell_type": "code",
   "execution_count": 15,
   "metadata": {},
   "outputs": [],
   "source": [
    "ref_image_path = '/mnt/data/bids_dataset/sub-01/ses-1/func/sub-01_ses-1_task-learning_run-2_bold.nii'\n",
    "ref_image = nilearn.image.load_img(ref_image_path)\n",
    "\n",
    "prob_image_path = '/mnt/data/bids_dataset/sub-66/ses-1/func/sub-66_ses-1_task-learning_run-2_bold.nii'\n",
    "prob_image = nilearn.image.load_img(prob_image_path)"
   ]
  },
  {
   "cell_type": "code",
   "execution_count": 16,
   "metadata": {},
   "outputs": [
    {
     "name": "stdout",
     "output_type": "stream",
     "text": [
      "Differences found in headers:\n",
      "dim:\n",
      " - Image 1: [  4  80  80  40 426   1   1   1]\n",
      " - Image 2: [ 4 80 80 40 13  1  1  1]\n",
      "pixdim:\n",
      " - Image 1: [1.        3.        3.        3.5       2.3338354 1.        1.\n",
      " 1.       ]\n",
      " - Image 2: [1.       3.       3.       3.5      2.333846 1.       1.       1.      ]\n",
      "scl_slope:\n",
      " - Image 1: nan\n",
      " - Image 2: nan\n",
      "scl_inter:\n",
      " - Image 1: nan\n",
      " - Image 2: nan\n"
     ]
    }
   ],
   "source": [
    "# Function to compare headers\n",
    "def compare_headers(header1, header2):\n",
    "    # Convert headers to dictionaries\n",
    "    header_dict1 = dict(header1)\n",
    "    header_dict2 = dict(header2)\n",
    "    \n",
    "    # Compare field by field\n",
    "    differences = {}\n",
    "    for key in header_dict1:\n",
    "        if key in header_dict2:\n",
    "            if not np.array_equal(header_dict1[key], header_dict2[key]):\n",
    "                differences[key] = (header_dict1[key], header_dict2[key])\n",
    "        else:\n",
    "            differences[key] = (header_dict1[key], None)\n",
    "    \n",
    "    for key in header_dict2:\n",
    "        if key not in header_dict1:\n",
    "            differences[key] = (None, header_dict2[key])\n",
    "    \n",
    "    return differences\n",
    "\n",
    "# Compare the headers\n",
    "differences = compare_headers(ref_image.header, prob_image.header)\n",
    "\n",
    "# Print the differences\n",
    "if differences:\n",
    "    print(\"Differences found in headers:\")\n",
    "    for key, (val1, val2) in differences.items():\n",
    "        print(f\"{key}:\\n - Image 1: {val1}\\n - Image 2: {val2}\")\n",
    "else:\n",
    "    print(\"Headers are identical\")"
   ]
  },
  {
   "cell_type": "code",
   "execution_count": null,
   "metadata": {},
   "outputs": [],
   "source": []
  },
  {
   "cell_type": "code",
   "execution_count": null,
   "metadata": {},
   "outputs": [],
   "source": []
  }
 ],
 "metadata": {
  "kernelspec": {
   "display_name": "pydat",
   "language": "python",
   "name": "python3"
  },
  "language_info": {
   "codemirror_mode": {
    "name": "ipython",
    "version": 3
   },
   "file_extension": ".py",
   "mimetype": "text/x-python",
   "name": "python",
   "nbconvert_exporter": "python",
   "pygments_lexer": "ipython3",
   "version": "3.1.undefined"
  }
 },
 "nbformat": 4,
 "nbformat_minor": 2
}
