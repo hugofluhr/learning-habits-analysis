{
 "cells": [
  {
   "cell_type": "code",
   "execution_count": 11,
   "metadata": {},
   "outputs": [],
   "source": [
    "import sys\n",
    "import os\n",
    "import pandas as pd\n",
    "import numpy as np\n",
    "from matplotlib import pyplot as plt\n",
    "from nilearn import image\n",
    "from nilearn.glm.first_level import FirstLevelModel\n",
    "from nilearn.plotting import plot_design_matrix\n",
    "from nilearn import plotting\n",
    "from bids import BIDSLayout\n",
    "from bids.reports import BIDSReport\n",
    "sys.path.append('..')\n",
    "from utils.data import Subject, Block, load_participant_list, load_subject_lut"
   ]
  },
  {
   "cell_type": "code",
   "execution_count": 27,
   "metadata": {},
   "outputs": [],
   "source": [
    "base_dir = '/Users/hugofluhr/data/LH_dev'"
   ]
  },
  {
   "cell_type": "code",
   "execution_count": 28,
   "metadata": {},
   "outputs": [],
   "source": [
    "mri_participants = load_participant_list(base_dir)\n",
    "mri_participants = ['sub-'+str(p) for p in mri_participants]\n",
    "lut = load_subject_lut(base_dir)"
   ]
  },
  {
   "cell_type": "code",
   "execution_count": 29,
   "metadata": {},
   "outputs": [],
   "source": [
    "modeling_participants = set([f.split('_')[0] for f in os.listdir(os.path.join(base_dir,'modeling_data')) if f.endswith('.csv')])"
   ]
  },
  {
   "cell_type": "code",
   "execution_count": 30,
   "metadata": {},
   "outputs": [
    {
     "data": {
      "text/plain": [
       "(67, 71)"
      ]
     },
     "execution_count": 30,
     "metadata": {},
     "output_type": "execute_result"
    }
   ],
   "source": [
    "len(modeling_participants), len(mri_participants)"
   ]
  },
  {
   "cell_type": "code",
   "execution_count": 45,
   "metadata": {},
   "outputs": [],
   "source": [
    "# Convert all the keys and values in LUT and participants to lowercase for case-insensitive comparison\n",
    "participants_lower = {p.lower() for p in modeling_participants}\n",
    "subject_lut_lower = {k: v.lower() for k, v in lut.items()}\n",
    "\n",
    "# Reverse lookup dictionary to easily find subjects by participant code\n",
    "reverse_lut = {v: k for k, v in subject_lut_lower.items()}\n",
    "\n",
    "\n",
    "# Find matching subject IDs\n",
    "matching_subject_ids = []\n",
    "for participant in participants_lower:\n",
    "    if participant in reverse_lut:\n",
    "        matching_subject_ids.append(reverse_lut[participant])\n",
    "\n",
    "# Sort the matching subject IDs\n",
    "matching_subject_ids = sorted(matching_subject_ids)"
   ]
  },
  {
   "cell_type": "code",
   "execution_count": 48,
   "metadata": {},
   "outputs": [],
   "source": [
    "modeling_and_mri_subjects = set(matching_subject_ids).intersection(set(mri_participants))"
   ]
  },
  {
   "cell_type": "code",
   "execution_count": 49,
   "metadata": {},
   "outputs": [
    {
     "data": {
      "text/plain": [
       "67"
      ]
     },
     "execution_count": 49,
     "metadata": {},
     "output_type": "execute_result"
    }
   ],
   "source": [
    "len(modeling_and_mri_subjects)"
   ]
  },
  {
   "cell_type": "code",
   "execution_count": 52,
   "metadata": {},
   "outputs": [],
   "source": [
    "sorted_ids =  sorted([s.strip('sub-') for s in modeling_and_mri_subjects])"
   ]
  },
  {
   "cell_type": "code",
   "execution_count": 54,
   "metadata": {},
   "outputs": [],
   "source": [
    "# Write the sorted_ids to a TSV file in base_dir called \"modeling_participants.tsv\"\n",
    "output_file = os.path.join(base_dir, \"modeling_participants.tsv\")\n",
    "\n",
    "with open(output_file, 'w') as f:\n",
    "    for subject_id in sorted_ids:\n",
    "        f.write(f\"{subject_id}\\n\")"
   ]
  },
  {
   "cell_type": "code",
   "execution_count": null,
   "metadata": {},
   "outputs": [],
   "source": []
  }
 ],
 "metadata": {
  "kernelspec": {
   "display_name": "neuroim",
   "language": "python",
   "name": "python3"
  },
  "language_info": {
   "codemirror_mode": {
    "name": "ipython",
    "version": 3
   },
   "file_extension": ".py",
   "mimetype": "text/x-python",
   "name": "python",
   "nbconvert_exporter": "python",
   "pygments_lexer": "ipython3",
   "version": "3.10.14"
  }
 },
 "nbformat": 4,
 "nbformat_minor": 2
}
